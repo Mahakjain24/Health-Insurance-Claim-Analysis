{
 "cells": [
  {
   "cell_type": "code",
   "execution_count": 1,
   "id": "9b30d852",
   "metadata": {},
   "outputs": [],
   "source": [
    "import findspark\n",
    "findspark.init('D:\\spark\\spark-3.3.2-bin-hadoop2')"
   ]
  },
  {
   "cell_type": "code",
   "execution_count": 2,
   "id": "bc00441f",
   "metadata": {},
   "outputs": [
    {
     "data": {
      "text/plain": [
       "'3.3.2'"
      ]
     },
     "execution_count": 2,
     "metadata": {},
     "output_type": "execute_result"
    }
   ],
   "source": [
    "import pyspark\n",
    "pyspark.__version__"
   ]
  },
  {
   "cell_type": "code",
   "execution_count": 3,
   "id": "202925ae",
   "metadata": {},
   "outputs": [],
   "source": [
    "from pyspark.sql import SparkSession\n",
    "from pyspark import SparkContext"
   ]
  },
  {
   "cell_type": "code",
   "execution_count": 4,
   "id": "e49c9feb",
   "metadata": {},
   "outputs": [],
   "source": [
    "mongo_ip = 'mongodb://localhost:27017/Insurance'"
   ]
  },
  {
   "cell_type": "code",
   "execution_count": 5,
   "id": "b67da87e",
   "metadata": {},
   "outputs": [],
   "source": [
    "spark = SparkSession \\\n",
    ".builder\\\n",
    ".appName(\"myApp1\")\\\n",
    ".config(\"spark.jars.packages\", \"org.mongodb.spark:mongo-spark-connector_2.12:3.0.1\")\\\n",
    ".getOrCreate()"
   ]
  },
  {
   "cell_type": "code",
   "execution_count": 6,
   "id": "5d9c43cb",
   "metadata": {},
   "outputs": [],
   "source": [
    "outp = spark.read.format(\"com.mongodb.spark.sql.DefaultSource\").option(\"uri\",mongo_ip + \".Outpatient\").load()"
   ]
  },
  {
   "cell_type": "code",
   "execution_count": 7,
   "id": "bed236d6",
   "metadata": {},
   "outputs": [],
   "source": [
    "drop_col = ['NCH_BENE_PTB_COINSRNC_AMT','_id','OP_PHYSN_NPI','OT_PHYSN_NPI','SEGMENT','AT_PHYSN_NPI','HCPCS_CD_1','HCPCS_CD_10','HCPCS_CD_11','HCPCS_CD_12','HCPCS_CD_13','HCPCS_CD_14','HCPCS_CD_15','HCPCS_CD_16','HCPCS_CD_17','HCPCS_CD_18','HCPCS_CD_19','HCPCS_CD_2','HCPCS_CD_20','HCPCS_CD_21','HCPCS_CD_22','HCPCS_CD_23','HCPCS_CD_24','HCPCS_CD_25','HCPCS_CD_26','HCPCS_CD_27','HCPCS_CD_28','HCPCS_CD_29','HCPCS_CD_3','HCPCS_CD_30','HCPCS_CD_31','HCPCS_CD_32','HCPCS_CD_33','HCPCS_CD_34','HCPCS_CD_35','HCPCS_CD_36','HCPCS_CD_37','HCPCS_CD_38','HCPCS_CD_39','HCPCS_CD_4','HCPCS_CD_40','HCPCS_CD_41','HCPCS_CD_42','HCPCS_CD_43','HCPCS_CD_44','HCPCS_CD_45','HCPCS_CD_5','HCPCS_CD_6','HCPCS_CD_7','HCPCS_CD_8','HCPCS_CD_9','ICD9_DGNS_CD_1','ICD9_DGNS_CD_10','ICD9_DGNS_CD_2','ICD9_DGNS_CD_3','ICD9_DGNS_CD_4','ICD9_DGNS_CD_5','ICD9_DGNS_CD_6','ICD9_DGNS_CD_7','ICD9_DGNS_CD_8','ICD9_DGNS_CD_9','ICD9_PRCDR_CD_1','ICD9_PRCDR_CD_2','ICD9_PRCDR_CD_3','ICD9_PRCDR_CD_4','ICD9_PRCDR_CD_5','ICD9_PRCDR_CD_6']"
   ]
  },
  {
   "cell_type": "code",
   "execution_count": 8,
   "id": "1bbffa8e",
   "metadata": {},
   "outputs": [],
   "source": [
    "outp = outp.drop(*drop_col)"
   ]
  },
  {
   "cell_type": "code",
   "execution_count": 9,
   "id": "2bc11e65",
   "metadata": {},
   "outputs": [],
   "source": [
    "outp = outp.withColumnRenamed(\"PRVDR_NUM\",\"Provider_Number\") \\\n",
    "    .withColumnRenamed(\"CLM_PMT_AMT\",\"Claim_Payment_Amount\")\\\n",
    ".withColumnRenamed(\"CLM_PMT_AMT\",\"Claim_Payment_Amount\")\\\n",
    ".withColumnRenamed(\"NCH_PRMRY_PYR_CLM_PD_AMT\",\"Primary_Payer_Claim_Paid_Amount\")\\\n",
    ".withColumnRenamed(\"NCH_BENE_BLOOD_DDCTBL_LBLTY_AM\",\"Beneficiary_Blood_Deductible_Liability_Amount\")\\\n",
    ".withColumnRenamed(\"NCH_BENE_PTB_DDCTBL_AMT\",\"Beneficiary_PartB_Deductible_Amount\")\\\n",
    ".withColumnRenamed(\"ADMTNG_ICD9_DGNS_CD\",\"Claim_Admitting_Diagnosis_Code\")\\\n",
    ".withColumnRenamed(\"CLM_FROM_DT\",\"Claim_Start_Date\")\\\n",
    ".withColumnRenamed(\"CLM_THRU_DT\",\"Claim_End_Date\")"
   ]
  },
  {
   "cell_type": "code",
   "execution_count": 10,
   "id": "ee0524a5",
   "metadata": {},
   "outputs": [],
   "source": [
    "outp = outp.withColumn(\"Claim_Payment_Amount\", \n",
    "                                  outp[\"Claim_Payment_Amount\"]\n",
    "                                  .cast('int'))\\\n",
    ".withColumn(\"Beneficiary_Blood_Deductible_Liability_Amount\", \n",
    "                                  outp[\"Beneficiary_Blood_Deductible_Liability_Amount\"]\n",
    "                                  .cast('int'))\\\n",
    ".withColumn(\"Beneficiary_PartB_Deductible_Amount\", \n",
    "                                  outp[\"Beneficiary_PartB_Deductible_Amount\"]\n",
    "                                  .cast('int'))\\\n",
    ".withColumn(\"Primary_Payer_Claim_Paid_Amount\", \n",
    "                                  outp[\"Primary_Payer_Claim_Paid_Amount\"]\n",
    "                                  .cast('int'))"
   ]
  },
  {
   "cell_type": "code",
   "execution_count": 11,
   "id": "60d69243",
   "metadata": {},
   "outputs": [],
   "source": [
    "from pyspark.sql.functions import when\n",
    "\n",
    "outp = outp.withColumn(\"Claim_Start_Date\", when(outp[\"Claim_Start_Date\"] == '', None).otherwise(outp[\"Claim_Start_Date\"]))"
   ]
  },
  {
   "cell_type": "code",
   "execution_count": 12,
   "id": "8f10cd75",
   "metadata": {},
   "outputs": [
    {
     "name": "stdout",
     "output_type": "stream",
     "text": [
      "+------------------------------+----------------+------+--------------------+--------------+-----------+---------------------------------------------+-----------------------------------+-------------------------------+---------------+\n",
      "|Claim_Admitting_Diagnosis_Code|Claim_Start_Date|CLM_ID|Claim_Payment_Amount|Claim_End_Date|DESYNPUF_ID|Beneficiary_Blood_Deductible_Liability_Amount|Beneficiary_PartB_Deductible_Amount|Primary_Payer_Claim_Paid_Amount|Provider_Number|\n",
      "+------------------------------+----------------+------+--------------------+--------------+-----------+---------------------------------------------+-----------------------------------+-------------------------------+---------------+\n",
      "|                        596304|           33628|     0|                   0|         11253|          0|                                            0|                                  0|                              0|              0|\n",
      "+------------------------------+----------------+------+--------------------+--------------+-----------+---------------------------------------------+-----------------------------------+-------------------------------+---------------+\n",
      "\n"
     ]
    }
   ],
   "source": [
    "from pyspark.sql.functions import col,isnan,when,count\n",
    "outp.select([count(when(col(c).isNull(), c)).alias(c) for c in outp.columns]).show()"
   ]
  },
  {
   "cell_type": "code",
   "execution_count": 13,
   "id": "df838dcf",
   "metadata": {},
   "outputs": [],
   "source": [
    "outp = outp.dropna(how=\"any\")"
   ]
  },
  {
   "cell_type": "code",
   "execution_count": 14,
   "id": "25d03e4c",
   "metadata": {},
   "outputs": [
    {
     "name": "stdout",
     "output_type": "stream",
     "text": [
      "+------------------------------+----------------+------+--------------------+--------------+-----------+---------------------------------------------+-----------------------------------+-------------------------------+---------------+\n",
      "|Claim_Admitting_Diagnosis_Code|Claim_Start_Date|CLM_ID|Claim_Payment_Amount|Claim_End_Date|DESYNPUF_ID|Beneficiary_Blood_Deductible_Liability_Amount|Beneficiary_PartB_Deductible_Amount|Primary_Payer_Claim_Paid_Amount|Provider_Number|\n",
      "+------------------------------+----------------+------+--------------------+--------------+-----------+---------------------------------------------+-----------------------------------+-------------------------------+---------------+\n",
      "|                             0|               0|     0|                   0|             0|          0|                                            0|                                  0|                              0|              0|\n",
      "+------------------------------+----------------+------+--------------------+--------------+-----------+---------------------------------------------+-----------------------------------+-------------------------------+---------------+\n",
      "\n"
     ]
    }
   ],
   "source": [
    "from pyspark.sql.functions import col,isnan,when,count\n",
    "outp.select([count(when(col(c).isNull(), c)).alias(c) for c in outp.columns]).show()"
   ]
  },
  {
   "cell_type": "code",
   "execution_count": 15,
   "id": "21ee932d",
   "metadata": {},
   "outputs": [
    {
     "data": {
      "text/plain": [
       "['Claim_Admitting_Diagnosis_Code',\n",
       " 'Claim_Start_Date',\n",
       " 'CLM_ID',\n",
       " 'Claim_Payment_Amount',\n",
       " 'Claim_End_Date',\n",
       " 'DESYNPUF_ID',\n",
       " 'Beneficiary_Blood_Deductible_Liability_Amount',\n",
       " 'Beneficiary_PartB_Deductible_Amount',\n",
       " 'Primary_Payer_Claim_Paid_Amount',\n",
       " 'Provider_Number']"
      ]
     },
     "execution_count": 15,
     "metadata": {},
     "output_type": "execute_result"
    }
   ],
   "source": [
    "outp.columns"
   ]
  },
  {
   "cell_type": "code",
   "execution_count": 16,
   "id": "1b11eb47",
   "metadata": {},
   "outputs": [],
   "source": [
    "from datetime import datetime\n",
    "from pyspark.sql.functions import col,udf\n",
    "from pyspark.sql.types import DateType\n",
    "from pyspark.sql.functions import date_format"
   ]
  },
  {
   "cell_type": "code",
   "execution_count": 17,
   "id": "46994e7a",
   "metadata": {},
   "outputs": [],
   "source": [
    "func =  udf (lambda x: datetime.strptime(x, '%Y%m%d'), DateType())\n",
    "outp = outp.withColumn('Claim_Start_Date', date_format(func(col('Claim_Start_Date')), 'yyyy-MM-dd'))"
   ]
  },
  {
   "cell_type": "code",
   "execution_count": 18,
   "id": "089cde96",
   "metadata": {},
   "outputs": [],
   "source": [
    "from pyspark.sql.functions import to_date\n",
    "outp = outp.withColumn(\"Claim_Start_Date\", to_date(\"Claim_Start_Date\", \"yyyy-MM-dd\"))"
   ]
  },
  {
   "cell_type": "code",
   "execution_count": 19,
   "id": "b5f88859",
   "metadata": {},
   "outputs": [],
   "source": [
    "func =  udf (lambda x: datetime.strptime(x, '%Y%m%d'), DateType())\n",
    "outp = outp.withColumn('Claim_End_Date', date_format(func(col('Claim_End_Date')), 'yyyy-MM-dd'))"
   ]
  },
  {
   "cell_type": "code",
   "execution_count": 20,
   "id": "3a4cd776",
   "metadata": {},
   "outputs": [],
   "source": [
    "outp = outp.withColumn(\"Claim_End_Date\", to_date(\"Claim_End_Date\", \"yyyy-MM-dd\"))"
   ]
  },
  {
   "cell_type": "code",
   "execution_count": 21,
   "id": "009d4d72",
   "metadata": {},
   "outputs": [
    {
     "data": {
      "text/plain": [
       "[('Claim_Admitting_Diagnosis_Code', 'string'),\n",
       " ('Claim_Start_Date', 'date'),\n",
       " ('CLM_ID', 'string'),\n",
       " ('Claim_Payment_Amount', 'int'),\n",
       " ('Claim_End_Date', 'date'),\n",
       " ('DESYNPUF_ID', 'string'),\n",
       " ('Beneficiary_Blood_Deductible_Liability_Amount', 'int'),\n",
       " ('Beneficiary_PartB_Deductible_Amount', 'int'),\n",
       " ('Primary_Payer_Claim_Paid_Amount', 'int'),\n",
       " ('Provider_Number', 'string')]"
      ]
     },
     "execution_count": 21,
     "metadata": {},
     "output_type": "execute_result"
    }
   ],
   "source": [
    "outp.dtypes"
   ]
  },
  {
   "cell_type": "code",
   "execution_count": 22,
   "id": "8b81d8be",
   "metadata": {},
   "outputs": [],
   "source": [
    "from pyspark.sql.functions import year\n",
    "outp = outp.withColumn('Year',year(outp.Claim_End_Date))"
   ]
  },
  {
   "cell_type": "code",
   "execution_count": 23,
   "id": "98657c01",
   "metadata": {},
   "outputs": [],
   "source": [
    "from pyspark.sql.functions import month\n",
    "outp = outp.withColumn('Month',month(outp.Claim_End_Date))"
   ]
  },
  {
   "cell_type": "code",
   "execution_count": 24,
   "id": "d50cd51b",
   "metadata": {},
   "outputs": [
    {
     "data": {
      "text/plain": [
       "[('Claim_Admitting_Diagnosis_Code', 'string'),\n",
       " ('Claim_Start_Date', 'date'),\n",
       " ('CLM_ID', 'string'),\n",
       " ('Claim_Payment_Amount', 'int'),\n",
       " ('Claim_End_Date', 'date'),\n",
       " ('DESYNPUF_ID', 'string'),\n",
       " ('Beneficiary_Blood_Deductible_Liability_Amount', 'int'),\n",
       " ('Beneficiary_PartB_Deductible_Amount', 'int'),\n",
       " ('Primary_Payer_Claim_Paid_Amount', 'int'),\n",
       " ('Provider_Number', 'string'),\n",
       " ('Year', 'int'),\n",
       " ('Month', 'int')]"
      ]
     },
     "execution_count": 24,
     "metadata": {},
     "output_type": "execute_result"
    }
   ],
   "source": [
    "outp.dtypes"
   ]
  },
  {
   "cell_type": "code",
   "execution_count": 25,
   "id": "70a1aa37",
   "metadata": {},
   "outputs": [],
   "source": [
    "vis=['Claim_Start_Date','Claim_End_Date']\n",
    "outp = outp.drop(*vis)"
   ]
  },
  {
   "cell_type": "code",
   "execution_count": null,
   "id": "6805c1e2",
   "metadata": {},
   "outputs": [],
   "source": [
    "outp.write.format(\"com.mongodb.spark.sql.DefaultSource\").mode(\"overwrite\").option(\"spark.mongodb.output.uri\",\"mongodb://localhost:27017/Cleaned_Insurance.Outpatient\").save()"
   ]
  }
 ],
 "metadata": {
  "kernelspec": {
   "display_name": "Python 3 (ipykernel)",
   "language": "python",
   "name": "python3"
  },
  "language_info": {
   "codemirror_mode": {
    "name": "ipython",
    "version": 3
   },
   "file_extension": ".py",
   "mimetype": "text/x-python",
   "name": "python",
   "nbconvert_exporter": "python",
   "pygments_lexer": "ipython3",
   "version": "3.9.13"
  }
 },
 "nbformat": 4,
 "nbformat_minor": 5
}
