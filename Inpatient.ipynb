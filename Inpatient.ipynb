{
 "cells": [
  {
   "cell_type": "code",
   "execution_count": 25,
   "id": "5b4770ee",
   "metadata": {},
   "outputs": [],
   "source": [
    "import findspark\n",
    "findspark.init('D:\\spark\\spark-3.3.2-bin-hadoop2')\n",
    "import pyspark\n",
    "from pyspark.sql import SparkSession\n",
    "from pyspark import SparkContext"
   ]
  },
  {
   "cell_type": "code",
   "execution_count": 26,
   "id": "3a65666b",
   "metadata": {},
   "outputs": [],
   "source": [
    "mongo_ip = \"mongodb://localhost:27017/Insurance.\""
   ]
  },
  {
   "cell_type": "code",
   "execution_count": 27,
   "id": "86b0d459",
   "metadata": {},
   "outputs": [],
   "source": [
    "spark = SparkSession \\\n",
    ".builder\\\n",
    ".appName(\"myApp\")\\\n",
    ".config(\"spark.jars.packages\", \"org.mongodb.spark:mongo-spark-connector_2.12:3.0.1\")\\\n",
    ".getOrCreate()"
   ]
  },
  {
   "cell_type": "code",
   "execution_count": 28,
   "id": "927f8517",
   "metadata": {},
   "outputs": [],
   "source": [
    "df_in = spark.read.format(\"com.mongodb.spark.sql.DefaultSource\").option(\"uri\",mongo_ip + \"Inpatient\").load()"
   ]
  },
  {
   "cell_type": "code",
   "execution_count": 29,
   "id": "e049a109",
   "metadata": {},
   "outputs": [],
   "source": [
    "df_in=df_in.drop('AT_PHYSN_NPI','OP_PHYSN_NPI',\n",
    " 'OT_PHYSN_NPI', 'SEGMENT', 'CLM_DRG_CD','ICD9_DGNS_CD_1',\n",
    " 'ICD9_DGNS_CD_10',\n",
    " 'ICD9_DGNS_CD_2',\n",
    " 'ICD9_DGNS_CD_3',\n",
    " 'ICD9_DGNS_CD_4',\n",
    " 'ICD9_DGNS_CD_5',\n",
    " 'ICD9_DGNS_CD_6',\n",
    " 'ICD9_DGNS_CD_7',\n",
    " 'ICD9_DGNS_CD_8',\n",
    " 'ICD9_DGNS_CD_9',\n",
    " 'ICD9_PRCDR_CD_1',\n",
    " 'ICD9_PRCDR_CD_2',\n",
    " 'ICD9_PRCDR_CD_3',\n",
    " 'ICD9_PRCDR_CD_4',\n",
    " 'ICD9_PRCDR_CD_5',\n",
    " 'ICD9_PRCDR_CD_6','HCPCS_CD_1',\n",
    " 'HCPCS_CD_10',\n",
    " 'HCPCS_CD_11',\n",
    " 'HCPCS_CD_12',\n",
    " 'HCPCS_CD_13',\n",
    " 'HCPCS_CD_14',\n",
    " 'HCPCS_CD_15',\n",
    " 'HCPCS_CD_16',\n",
    " 'HCPCS_CD_17',\n",
    " 'HCPCS_CD_18',\n",
    " 'HCPCS_CD_19',\n",
    " 'HCPCS_CD_2',\n",
    " 'HCPCS_CD_20',\n",
    " 'HCPCS_CD_21',\n",
    " 'HCPCS_CD_22',\n",
    " 'HCPCS_CD_23',\n",
    " 'HCPCS_CD_24',\n",
    " 'HCPCS_CD_25',\n",
    " 'HCPCS_CD_26',\n",
    " 'HCPCS_CD_27',\n",
    " 'HCPCS_CD_28',\n",
    " 'HCPCS_CD_29',\n",
    " 'HCPCS_CD_3',\n",
    " 'HCPCS_CD_30',\n",
    " 'HCPCS_CD_31',\n",
    " 'HCPCS_CD_32',\n",
    " 'HCPCS_CD_33',\n",
    " 'HCPCS_CD_34',\n",
    " 'HCPCS_CD_35',\n",
    " 'HCPCS_CD_36',\n",
    " 'HCPCS_CD_37',\n",
    " 'HCPCS_CD_38',\n",
    " 'HCPCS_CD_39',\n",
    " 'HCPCS_CD_4',\n",
    " 'HCPCS_CD_40',\n",
    " 'HCPCS_CD_41',\n",
    " 'HCPCS_CD_42',\n",
    " 'HCPCS_CD_43',\n",
    " 'HCPCS_CD_44',\n",
    " 'HCPCS_CD_45',\n",
    " 'HCPCS_CD_5',\n",
    " 'HCPCS_CD_6',\n",
    " 'HCPCS_CD_7',\n",
    " 'HCPCS_CD_8',\n",
    " 'HCPCS_CD_9',\n",
    " '_id')"
   ]
  },
  {
   "cell_type": "code",
   "execution_count": 30,
   "id": "1c401fbe",
   "metadata": {},
   "outputs": [
    {
     "data": {
      "text/plain": [
       "['ADMTNG_ICD9_DGNS_CD',\n",
       " 'CLM_ADMSN_DT',\n",
       " 'CLM_FROM_DT',\n",
       " 'CLM_ID',\n",
       " 'CLM_PASS_THRU_PER_DIEM_AMT',\n",
       " 'CLM_PMT_AMT',\n",
       " 'CLM_THRU_DT',\n",
       " 'CLM_UTLZTN_DAY_CNT',\n",
       " 'DESYNPUF_ID',\n",
       " 'NCH_BENE_BLOOD_DDCTBL_LBLTY_AM',\n",
       " 'NCH_BENE_DSCHRG_DT',\n",
       " 'NCH_BENE_IP_DDCTBL_AMT',\n",
       " 'NCH_BENE_PTA_COINSRNC_LBLTY_AM',\n",
       " 'NCH_PRMRY_PYR_CLM_PD_AMT',\n",
       " 'PRVDR_NUM']"
      ]
     },
     "execution_count": 30,
     "metadata": {},
     "output_type": "execute_result"
    }
   ],
   "source": [
    "df_in.columns"
   ]
  },
  {
   "cell_type": "code",
   "execution_count": 31,
   "id": "e66795bd",
   "metadata": {},
   "outputs": [],
   "source": [
    "df_inp = df_in.withColumnRenamed(\"ADMTNG_ICD9_DGNS_CD\",\"Claim_Admitting_Diagnosis_Code\") \\\n",
    "    .withColumnRenamed(\"CLM_ADMSN_DT\",\"Claim_Admission_Date\")\\\n",
    ".withColumnRenamed(\"CLM_FROM_DT\",\"Claim_Start_Date\")\\\n",
    ".withColumnRenamed(\"CLM_ID\",\"Claim_ID\")\\\n",
    ".withColumnRenamed(\"CLM_PASS_THRU_PER_DIEM_AMT\",\"Claim_Pass_Thru_Per_Diem_Amount\")\\\n",
    ".withColumnRenamed(\"CLM_PMT_AMT\",\"Claim_Payment_Amount\")\\\n",
    ".withColumnRenamed(\"CLM_THRU_DT\",\"Claim_End_Date\")\\\n",
    ".withColumnRenamed(\"CLM_UTLZTN_DAY_CNT\",\"Claim_Utilization_Day_Count\")\\\n",
    ".withColumnRenamed(\"NCH_BENE_BLOOD_DDCTBL_LBLTY_AM\",\"Beneficiary_Blood_Deductible_Liability_Amount\")\\\n",
    ".withColumnRenamed(\"NCH_BENE_DSCHRG_DT\",\"Inpatient_discharged_date\")\\\n",
    ".withColumnRenamed(\"NCH_BENE_IP_DDCTBL_AMT\",\"Beneficiary_Inpatient_Deductible_Amount\")\\\n",
    ".withColumnRenamed(\"NCH_BENE_PTA_COINSRNC_LBLTY_AM\",\"Beneficiary_PartA_Coinsurance_Liability_Amount\")\\\n",
    ".withColumnRenamed(\"NCH_PRMRY_PYR_CLM_PD_AMT\",\"Primary_Payer_Claim_Paid_Amount\")\\\n",
    ".withColumnRenamed(\"PRVDR_NUM\",\"Provider_Number\")"
   ]
  },
  {
   "cell_type": "code",
   "execution_count": 32,
   "id": "f7683168",
   "metadata": {},
   "outputs": [
    {
     "data": {
      "text/plain": [
       "['Claim_Admitting_Diagnosis_Code',\n",
       " 'Claim_Admission_Date',\n",
       " 'Claim_Start_Date',\n",
       " 'Claim_ID',\n",
       " 'Claim_Pass_Thru_Per_Diem_Amount',\n",
       " 'Claim_Payment_Amount',\n",
       " 'Claim_End_Date',\n",
       " 'Claim_Utilization_Day_Count',\n",
       " 'DESYNPUF_ID',\n",
       " 'Beneficiary_Blood_Deductible_Liability_Amount',\n",
       " 'Inpatient_discharged_date',\n",
       " 'Beneficiary_Inpatient_Deductible_Amount',\n",
       " 'Beneficiary_PartA_Coinsurance_Liability_Amount',\n",
       " 'Primary_Payer_Claim_Paid_Amount',\n",
       " 'Provider_Number']"
      ]
     },
     "execution_count": 32,
     "metadata": {},
     "output_type": "execute_result"
    }
   ],
   "source": [
    "df_inp.columns"
   ]
  },
  {
   "cell_type": "code",
   "execution_count": 33,
   "id": "d5535805",
   "metadata": {},
   "outputs": [],
   "source": [
    "\n",
    "df_inp = df_inp.withColumn(\"Claim_Pass_Thru_Per_Diem_Amount\", \n",
    "                                  df_inp[\"Claim_Pass_Thru_Per_Diem_Amount\"]\n",
    "                                  .cast('int'))\\\n",
    ".withColumn(\"Claim_Payment_Amount\", \n",
    "                                  df_inp[\"Claim_Payment_Amount\"]\n",
    "                                  .cast('int'))\\\n",
    ".withColumn(\"Claim_Utilization_Day_Count\", \n",
    "                                  df_inp[\"Claim_Utilization_Day_Count\"]\n",
    "                                  .cast('int'))\\\n",
    ".withColumn(\"Beneficiary_Blood_Deductible_Liability_Amount\", \n",
    "                                  df_inp[\"Beneficiary_Blood_Deductible_Liability_Amount\"]\n",
    "                                  .cast('int'))\\\n",
    ".withColumn(\"Beneficiary_Inpatient_Deductible_Amount\", \n",
    "                                  df_inp[\"Beneficiary_Inpatient_Deductible_Amount\"]\n",
    "                                  .cast('int'))\\\n",
    ".withColumn(\"Beneficiary_PartA_Coinsurance_Liability_Amount\", \n",
    "                                  df_inp[\"Beneficiary_PartA_Coinsurance_Liability_Amount\"]\n",
    "                                  .cast('int'))\\\n",
    ".withColumn(\"Primary_Payer_Claim_Paid_Amount\", \n",
    "                                  df_inp[\"Primary_Payer_Claim_Paid_Amount\"]\n",
    "                                  .cast('int'))"
   ]
  },
  {
   "cell_type": "code",
   "execution_count": 34,
   "id": "ab1958ff",
   "metadata": {},
   "outputs": [],
   "source": [
    "from pyspark.sql.functions import when\n",
    "\n",
    "df_inp = df_inp.withColumn(\"Claim_Admitting_Diagnosis_Code\", when(df_inp[\"Claim_Admitting_Diagnosis_Code\"] == '', None).otherwise(df_inp[\"Claim_Admitting_Diagnosis_Code\"]))"
   ]
  },
  {
   "cell_type": "code",
   "execution_count": 35,
   "id": "b1cf7b54",
   "metadata": {},
   "outputs": [
    {
     "name": "stdout",
     "output_type": "stream",
     "text": [
      "+------------------------------+--------------------+----------------+--------+-------------------------------+--------------------+--------------+---------------------------+-----------+---------------------------------------------+-------------------------+---------------------------------------+----------------------------------------------+-------------------------------+---------------+\n",
      "|Claim_Admitting_Diagnosis_Code|Claim_Admission_Date|Claim_Start_Date|Claim_ID|Claim_Pass_Thru_Per_Diem_Amount|Claim_Payment_Amount|Claim_End_Date|Claim_Utilization_Day_Count|DESYNPUF_ID|Beneficiary_Blood_Deductible_Liability_Amount|Inpatient_discharged_date|Beneficiary_Inpatient_Deductible_Amount|Beneficiary_PartA_Coinsurance_Liability_Amount|Primary_Payer_Claim_Paid_Amount|Provider_Number|\n",
      "+------------------------------+--------------------+----------------+--------+-------------------------------+--------------------+--------------+---------------------------+-----------+---------------------------------------------+-------------------------+---------------------------------------+----------------------------------------------+-------------------------------+---------------+\n",
      "|                          1786|                   0|              68|       0|                              0|                   0|            68|                        202|          0|                                            0|                        0|                                   6519|                                             0|                              0|              0|\n",
      "+------------------------------+--------------------+----------------+--------+-------------------------------+--------------------+--------------+---------------------------+-----------+---------------------------------------------+-------------------------+---------------------------------------+----------------------------------------------+-------------------------------+---------------+\n",
      "\n"
     ]
    }
   ],
   "source": [
    "from pyspark.sql.functions import col,isnan,when,count\n",
    "df_inp.select([count(when(col(c).isNull(), c)).alias(c) for c in df_inp.columns]).show()"
   ]
  },
  {
   "cell_type": "code",
   "execution_count": 36,
   "id": "7f6fa8c8",
   "metadata": {},
   "outputs": [],
   "source": [
    "df_inp = df_inp.dropna(how=\"any\")"
   ]
  },
  {
   "cell_type": "code",
   "execution_count": 37,
   "id": "bab012fc",
   "metadata": {},
   "outputs": [
    {
     "name": "stdout",
     "output_type": "stream",
     "text": [
      "+------------------------------+--------------------+----------------+--------+-------------------------------+--------------------+--------------+---------------------------+-----------+---------------------------------------------+-------------------------+---------------------------------------+----------------------------------------------+-------------------------------+---------------+\n",
      "|Claim_Admitting_Diagnosis_Code|Claim_Admission_Date|Claim_Start_Date|Claim_ID|Claim_Pass_Thru_Per_Diem_Amount|Claim_Payment_Amount|Claim_End_Date|Claim_Utilization_Day_Count|DESYNPUF_ID|Beneficiary_Blood_Deductible_Liability_Amount|Inpatient_discharged_date|Beneficiary_Inpatient_Deductible_Amount|Beneficiary_PartA_Coinsurance_Liability_Amount|Primary_Payer_Claim_Paid_Amount|Provider_Number|\n",
      "+------------------------------+--------------------+----------------+--------+-------------------------------+--------------------+--------------+---------------------------+-----------+---------------------------------------------+-------------------------+---------------------------------------+----------------------------------------------+-------------------------------+---------------+\n",
      "|                             0|                   0|               0|       0|                              0|                   0|             0|                          0|          0|                                            0|                        0|                                      0|                                             0|                              0|              0|\n",
      "+------------------------------+--------------------+----------------+--------+-------------------------------+--------------------+--------------+---------------------------+-----------+---------------------------------------------+-------------------------+---------------------------------------+----------------------------------------------+-------------------------------+---------------+\n",
      "\n"
     ]
    }
   ],
   "source": [
    "from pyspark.sql.functions import col,isnan,when,count\n",
    "df_inp.select([count(when(col(c).isNull(), c)).alias(c) for c in df_inp.columns]).show()"
   ]
  },
  {
   "cell_type": "code",
   "execution_count": 38,
   "id": "cb96eaf9",
   "metadata": {},
   "outputs": [],
   "source": [
    "from datetime import datetime\n",
    "from pyspark.sql.functions import col,udf\n",
    "from pyspark.sql.types import DateType\n",
    "from pyspark.sql.functions import date_format"
   ]
  },
  {
   "cell_type": "code",
   "execution_count": 39,
   "id": "21a4edc4",
   "metadata": {},
   "outputs": [],
   "source": [
    "func =  udf (lambda x: datetime.strptime(x, '%Y%m%d'), DateType())\n",
    "df_inp=df_inp.withColumn('Claim_Start_Date', date_format(func(col('Claim_Start_Date')), 'yyyy-MM-dd'))"
   ]
  },
  {
   "cell_type": "code",
   "execution_count": 40,
   "id": "ab673116",
   "metadata": {},
   "outputs": [],
   "source": [
    "from pyspark.sql.functions import to_date\n",
    "df_inp = df_inp.withColumn(\"Claim_Start_Date\", to_date(\"Claim_Start_Date\", \"yyyy-MM-dd\"))"
   ]
  },
  {
   "cell_type": "code",
   "execution_count": 41,
   "id": "7af76586",
   "metadata": {},
   "outputs": [],
   "source": [
    "func =  udf (lambda x: datetime.strptime(x, '%Y%m%d'), DateType())\n",
    "df_inp = df_inp.withColumn('Claim_End_Date', date_format(func(col('Claim_End_Date')), 'yyyy-MM-dd'))"
   ]
  },
  {
   "cell_type": "code",
   "execution_count": 42,
   "id": "e2ba95bd",
   "metadata": {},
   "outputs": [],
   "source": [
    "df_inp = df_inp.withColumn(\"Claim_End_Date\", to_date(\"Claim_End_Date\", \"yyyy-MM-dd\"))"
   ]
  },
  {
   "cell_type": "code",
   "execution_count": 43,
   "id": "8a4f9c76",
   "metadata": {},
   "outputs": [],
   "source": [
    "func =  udf (lambda x: datetime.strptime(x, '%Y%m%d'), DateType())\n",
    "df_inp = df_inp.withColumn('Claim_Admission_Date', date_format(func(col('Claim_Admission_Date')), 'yyyy-MM-dd'))"
   ]
  },
  {
   "cell_type": "code",
   "execution_count": 44,
   "id": "825e4a50",
   "metadata": {},
   "outputs": [],
   "source": [
    "df_inp = df_inp.withColumn(\"Claim_Admission_Date\", to_date(\"Claim_Admission_Date\", \"yyyy-MM-dd\"))"
   ]
  },
  {
   "cell_type": "code",
   "execution_count": 45,
   "id": "ba8a59a5",
   "metadata": {},
   "outputs": [],
   "source": [
    "func =  udf (lambda x: datetime.strptime(x, '%Y%m%d'), DateType())\n",
    "df_inp = df_inp.withColumn('Inpatient_discharged_date', date_format(func(col('Inpatient_discharged_date')), 'yyyy-MM-dd'))"
   ]
  },
  {
   "cell_type": "code",
   "execution_count": 46,
   "id": "6a1fa2b5",
   "metadata": {},
   "outputs": [],
   "source": [
    "df_inp = df_inp.withColumn(\"Inpatient_discharged_date\", to_date(\"Inpatient_discharged_date\", \"yyyy-MM-dd\"))"
   ]
  },
  {
   "cell_type": "code",
   "execution_count": 47,
   "id": "09afe0a7",
   "metadata": {},
   "outputs": [
    {
     "data": {
      "text/plain": [
       "[('Claim_Admitting_Diagnosis_Code', 'string'),\n",
       " ('Claim_Admission_Date', 'date'),\n",
       " ('Claim_Start_Date', 'date'),\n",
       " ('Claim_ID', 'string'),\n",
       " ('Claim_Pass_Thru_Per_Diem_Amount', 'int'),\n",
       " ('Claim_Payment_Amount', 'int'),\n",
       " ('Claim_End_Date', 'date'),\n",
       " ('Claim_Utilization_Day_Count', 'int'),\n",
       " ('DESYNPUF_ID', 'string'),\n",
       " ('Beneficiary_Blood_Deductible_Liability_Amount', 'int'),\n",
       " ('Inpatient_discharged_date', 'date'),\n",
       " ('Beneficiary_Inpatient_Deductible_Amount', 'int'),\n",
       " ('Beneficiary_PartA_Coinsurance_Liability_Amount', 'int'),\n",
       " ('Primary_Payer_Claim_Paid_Amount', 'int'),\n",
       " ('Provider_Number', 'string')]"
      ]
     },
     "execution_count": 47,
     "metadata": {},
     "output_type": "execute_result"
    }
   ],
   "source": [
    "df_inp.dtypes"
   ]
  },
  {
   "cell_type": "code",
   "execution_count": 24,
   "id": "fdbd6246",
   "metadata": {},
   "outputs": [],
   "source": [
    "df_inp.write.format(\"com.mongodb.spark.sql.DefaultSource\").mode(\"overwrite\").option(\"spark.mongodb.output.uri\",\"mongodb://localhost:27017/Cleaned_Insurance.Inpatient\").save()"
   ]
  }
 ],
 "metadata": {
  "kernelspec": {
   "display_name": "Python 3 (ipykernel)",
   "language": "python",
   "name": "python3"
  },
  "language_info": {
   "codemirror_mode": {
    "name": "ipython",
    "version": 3
   },
   "file_extension": ".py",
   "mimetype": "text/x-python",
   "name": "python",
   "nbconvert_exporter": "python",
   "pygments_lexer": "ipython3",
   "version": "3.9.13"
  }
 },
 "nbformat": 4,
 "nbformat_minor": 5
}
