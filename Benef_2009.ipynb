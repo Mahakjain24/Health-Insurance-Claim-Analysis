{
 "cells": [
  {
   "cell_type": "code",
   "execution_count": 2,
   "id": "ae963649",
   "metadata": {},
   "outputs": [],
   "source": [
    "import findspark\n",
    "findspark.init('D:\\spark\\spark-3.3.2-bin-hadoop2/')\n",
    "import pyspark"
   ]
  },
  {
   "cell_type": "code",
   "execution_count": 3,
   "id": "80c29ae6",
   "metadata": {},
   "outputs": [],
   "source": [
    "from pyspark.sql import SparkSession\n",
    "from pyspark import SparkContext"
   ]
  },
  {
   "cell_type": "code",
   "execution_count": 4,
   "id": "8530f2bd",
   "metadata": {
    "scrolled": true
   },
   "outputs": [
    {
     "data": {
      "text/plain": [
       "'3.3.2'"
      ]
     },
     "execution_count": 4,
     "metadata": {},
     "output_type": "execute_result"
    }
   ],
   "source": [
    "pyspark.__version__"
   ]
  },
  {
   "cell_type": "code",
   "execution_count": 5,
   "id": "fdd8f6a5",
   "metadata": {},
   "outputs": [],
   "source": [
    "mongo_ip = 'mongodb://localhost:27017/Insurance.'"
   ]
  },
  {
   "cell_type": "code",
   "execution_count": 6,
   "id": "bccef9a5",
   "metadata": {},
   "outputs": [],
   "source": [
    "spark = SparkSession \\\n",
    ".builder\\\n",
    ".appName(\"myApp\")\\\n",
    ".config(\"spark.jars.packages\", \"org.mongodb.spark:mongo-spark-connector_2.12:3.0.1\")\\\n",
    ".getOrCreate()"
   ]
  },
  {
   "cell_type": "code",
   "execution_count": 6,
   "id": "949ec7ca",
   "metadata": {},
   "outputs": [],
   "source": [
    "ben_2009 = spark.read.format(\"com.mongodb.spark.sql.DefaultSource\").option(\"uri\",mongo_ip + \"Ben_2009\").load()"
   ]
  },
  {
   "cell_type": "code",
   "execution_count": 7,
   "id": "8fb5c758",
   "metadata": {},
   "outputs": [],
   "source": [
    "ben_2009.createOrReplaceTempView(\"Benef\")"
   ]
  },
  {
   "cell_type": "code",
   "execution_count": 8,
   "id": "221b2d81",
   "metadata": {},
   "outputs": [
    {
     "name": "stdout",
     "output_type": "stream",
     "text": [
      "root\n",
      " |-- BENE_BIRTH_DT: string (nullable = true)\n",
      " |-- BENE_COUNTY_CD: string (nullable = true)\n",
      " |-- BENE_DEATH_DT: string (nullable = true)\n",
      " |-- BENE_ESRD_IND: string (nullable = true)\n",
      " |-- BENE_HI_CVRAGE_TOT_MONS: string (nullable = true)\n",
      " |-- BENE_HMO_CVRAGE_TOT_MONS: string (nullable = true)\n",
      " |-- BENE_RACE_CD: string (nullable = true)\n",
      " |-- BENE_SEX_IDENT_CD: string (nullable = true)\n",
      " |-- BENE_SMI_CVRAGE_TOT_MONS: string (nullable = true)\n",
      " |-- BENRES_CAR: string (nullable = true)\n",
      " |-- BENRES_IP: string (nullable = true)\n",
      " |-- BENRES_OP: string (nullable = true)\n",
      " |-- DESYNPUF_ID: string (nullable = true)\n",
      " |-- MEDREIMB_CAR: string (nullable = true)\n",
      " |-- MEDREIMB_IP: string (nullable = true)\n",
      " |-- MEDREIMB_OP: string (nullable = true)\n",
      " |-- PLAN_CVRG_MOS_NUM: string (nullable = true)\n",
      " |-- PPPYMT_CAR: string (nullable = true)\n",
      " |-- PPPYMT_IP: string (nullable = true)\n",
      " |-- PPPYMT_OP: string (nullable = true)\n",
      " |-- SP_ALZHDMTA: string (nullable = true)\n",
      " |-- SP_CHF: string (nullable = true)\n",
      " |-- SP_CHRNKIDN: string (nullable = true)\n",
      " |-- SP_CNCR: string (nullable = true)\n",
      " |-- SP_COPD: string (nullable = true)\n",
      " |-- SP_DEPRESSN: string (nullable = true)\n",
      " |-- SP_DIABETES: string (nullable = true)\n",
      " |-- SP_ISCHMCHT: string (nullable = true)\n",
      " |-- SP_OSTEOPRS: string (nullable = true)\n",
      " |-- SP_RA_OA: string (nullable = true)\n",
      " |-- SP_STATE_CODE: string (nullable = true)\n",
      " |-- SP_STRKETIA: string (nullable = true)\n",
      " |-- _id: struct (nullable = true)\n",
      " |    |-- oid: string (nullable = true)\n",
      "\n"
     ]
    }
   ],
   "source": [
    "ben_2009.printSchema()"
   ]
  },
  {
   "cell_type": "code",
   "execution_count": 9,
   "id": "d2801b16",
   "metadata": {},
   "outputs": [
    {
     "data": {
      "text/plain": [
       "['BENE_BIRTH_DT',\n",
       " 'BENE_COUNTY_CD',\n",
       " 'BENE_DEATH_DT',\n",
       " 'BENE_ESRD_IND',\n",
       " 'BENE_HI_CVRAGE_TOT_MONS',\n",
       " 'BENE_HMO_CVRAGE_TOT_MONS',\n",
       " 'BENE_RACE_CD',\n",
       " 'BENE_SEX_IDENT_CD',\n",
       " 'BENE_SMI_CVRAGE_TOT_MONS',\n",
       " 'BENRES_CAR',\n",
       " 'BENRES_IP',\n",
       " 'BENRES_OP',\n",
       " 'DESYNPUF_ID',\n",
       " 'MEDREIMB_CAR',\n",
       " 'MEDREIMB_IP',\n",
       " 'MEDREIMB_OP',\n",
       " 'PLAN_CVRG_MOS_NUM',\n",
       " 'PPPYMT_CAR',\n",
       " 'PPPYMT_IP',\n",
       " 'PPPYMT_OP',\n",
       " 'SP_ALZHDMTA',\n",
       " 'SP_CHF',\n",
       " 'SP_CHRNKIDN',\n",
       " 'SP_CNCR',\n",
       " 'SP_COPD',\n",
       " 'SP_DEPRESSN',\n",
       " 'SP_DIABETES',\n",
       " 'SP_ISCHMCHT',\n",
       " 'SP_OSTEOPRS',\n",
       " 'SP_RA_OA',\n",
       " 'SP_STATE_CODE',\n",
       " 'SP_STRKETIA',\n",
       " '_id']"
      ]
     },
     "execution_count": 9,
     "metadata": {},
     "output_type": "execute_result"
    }
   ],
   "source": [
    "ben_2009.columns"
   ]
  },
  {
   "cell_type": "code",
   "execution_count": 10,
   "id": "49426458",
   "metadata": {},
   "outputs": [],
   "source": [
    "drop_col = ['_id','BENE_COUNTY_CD','BENRES_CAR','MEDREIMB_CAR','PPPYMT_CAR']"
   ]
  },
  {
   "cell_type": "code",
   "execution_count": 11,
   "id": "f489ad6f",
   "metadata": {},
   "outputs": [],
   "source": [
    "ben_2009 = ben_2009.drop(*drop_col)"
   ]
  },
  {
   "cell_type": "code",
   "execution_count": 12,
   "id": "b4b9d05e",
   "metadata": {},
   "outputs": [],
   "source": [
    "ben_2009 = ben_2009.withColumnRenamed(\"BENE_BIRTH_DT\",\"Date_of_birth\") \\\n",
    ".withColumnRenamed('BENE_DEATH_DT','Date_of_Death')\\\n",
    ".withColumnRenamed('BENE_ESRD_IND','End_stage_renal_disease_Indicator')\\\n",
    ".withColumnRenamed('BENE_HI_CVRAGE_TOT_MONS','Total_months_partA_coverage')\\\n",
    ".withColumnRenamed('BENE_HMO_CVRAGE_TOT_MONS','Total_months_HMO_coverage')\\\n",
    ".withColumnRenamed('BENE_SEX_IDENT_CD','Gender')\\\n",
    ".withColumnRenamed('BENE_RACE_CD','Race_Code')\\\n",
    ".withColumnRenamed('BENE_SMI_CVRAGE_TOT_MONS','Total_months_partB_coverage')\\\n",
    ".withColumnRenamed('BENRES_IP','Inpatient_responsibility_amount')\\\n",
    ".withColumnRenamed('BENRES_OP','Outpatient_responsibility_amount')\\\n",
    ".withColumnRenamed('MEDREIMB_IP','Inpatient_reimbursement_amount')\\\n",
    ".withColumnRenamed('MEDREIMB_OP','Outpatient_reimbursement_amount')\\\n",
    ".withColumnRenamed('PLAN_CVRG_MOS_NUM','Total_months_partD_coverage')\\\n",
    ".withColumnRenamed('PPPYMT_IP','Inpatient_primary_payer_reimbursement_amount')\\\n",
    ".withColumnRenamed('PPPYMT_OP','Outpatient_primary_payer_reimbursement_amount')\\\n",
    ".withColumnRenamed('SP_ALZHDMTA','Alzheimer')\\\n",
    ".withColumnRenamed('SP_CHF','Heart_Failure')\\\n",
    ".withColumnRenamed('SP_CHRNKIDN','Chronic_Kidney_Disease')\\\n",
    ".withColumnRenamed('SP_CNCR','Cancer')\\\n",
    ".withColumnRenamed('SP_COPD','Chronic_Obstructive_Pulmonary_Disease')\\\n",
    ".withColumnRenamed('SP_DEPRESSN','Depression')\\\n",
    ".withColumnRenamed('SP_DIABETES','Diabetes')\\\n",
    ".withColumnRenamed('SP_ISCHMCHT','Ischemic_Heart_Disease')\\\n",
    ".withColumnRenamed('SP_OSTEOPRS','Osteoporosis')\\\n",
    ".withColumnRenamed('SP_RA_OA','Rheumatoid_arthritis_osteoarthritis')\\\n",
    ".withColumnRenamed('SP_STATE_CODE','State_Code')\\\n",
    ".withColumnRenamed('SP_STRKETIA','Stroke_transient_Ischemic_Attack')"
   ]
  },
  {
   "cell_type": "code",
   "execution_count": 13,
   "id": "43073403",
   "metadata": {},
   "outputs": [
    {
     "data": {
      "text/plain": [
       "['Date_of_birth',\n",
       " 'Date_of_Death',\n",
       " 'End_stage_renal_disease_Indicator',\n",
       " 'Total_months_partA_coverage',\n",
       " 'Total_months_HMO_coverage',\n",
       " 'Race_Code',\n",
       " 'Gender',\n",
       " 'Total_months_partB_coverage',\n",
       " 'Inpatient_responsibility_amount',\n",
       " 'Outpatient_responsibility_amount',\n",
       " 'DESYNPUF_ID',\n",
       " 'Inpatient_reimbursement_amount',\n",
       " 'Outpatient_reimbursement_amount',\n",
       " 'Total_months_partD_coverage',\n",
       " 'Inpatient_primary_payer_reimbursement_amount',\n",
       " 'Outpatient_primary_payer_reimbursement_amount',\n",
       " 'Alzheimer',\n",
       " 'Heart_Failure',\n",
       " 'Chronic_Kidney_Disease',\n",
       " 'Cancer',\n",
       " 'Chronic_Obstructive_Pulmonary_Disease',\n",
       " 'Depression',\n",
       " 'Diabetes',\n",
       " 'Ischemic_Heart_Disease',\n",
       " 'Osteoporosis',\n",
       " 'Rheumatoid_arthritis_osteoarthritis',\n",
       " 'State_Code',\n",
       " 'Stroke_transient_Ischemic_Attack']"
      ]
     },
     "execution_count": 13,
     "metadata": {},
     "output_type": "execute_result"
    }
   ],
   "source": [
    "ben_2009.columns"
   ]
  },
  {
   "cell_type": "code",
   "execution_count": 14,
   "id": "51116c16",
   "metadata": {},
   "outputs": [],
   "source": [
    "from datetime import datetime\n",
    "from pyspark.sql.functions import col,udf\n",
    "from pyspark.sql.types import DateType\n",
    "from pyspark.sql.functions import date_format"
   ]
  },
  {
   "cell_type": "code",
   "execution_count": 15,
   "id": "c5fb8271",
   "metadata": {},
   "outputs": [],
   "source": [
    "func =  udf (lambda x: datetime.strptime(x, '%Y%m%d'), DateType())\n",
    "ben_2009 = ben_2009.withColumn('Date_of_birth', date_format(func(col('Date_of_birth')), 'yyyy-MM-dd'))"
   ]
  },
  {
   "cell_type": "code",
   "execution_count": 16,
   "id": "6031f625",
   "metadata": {},
   "outputs": [],
   "source": [
    "from pyspark.sql.functions import to_date\n",
    "ben_2009 = ben_2009.withColumn(\"Date_of_birth\", to_date(\"Date_of_birth\", \"yyyy-MM-dd\"))"
   ]
  },
  {
   "cell_type": "code",
   "execution_count": 17,
   "id": "c04a9a3d",
   "metadata": {},
   "outputs": [],
   "source": [
    "from pyspark.sql.functions import col,when\n",
    "ben_2009 = ben_2009.withColumn(\"Date_of_death\", \\\n",
    "       when(col(\"Date_of_death\")==\"\",\"18000101\") \\\n",
    "          .otherwise(col(\"Date_of_death\")))"
   ]
  },
  {
   "cell_type": "code",
   "execution_count": 18,
   "id": "7959aa55",
   "metadata": {},
   "outputs": [],
   "source": [
    "func =  udf (lambda x: datetime.strptime(x, '%Y%m%d'), DateType())\n",
    "ben_2009 = ben_2009.withColumn('Date_of_death', date_format(func(col('Date_of_death')), 'yyyy-MM-dd'))"
   ]
  },
  {
   "cell_type": "code",
   "execution_count": 19,
   "id": "e070ca64",
   "metadata": {},
   "outputs": [],
   "source": [
    "from pyspark.sql.functions import to_date\n",
    "ben_2009 = ben_2009.withColumn(\"Date_of_death\", to_date(\"Date_of_death\", \"yyyy-MM-dd\"))"
   ]
  },
  {
   "cell_type": "code",
   "execution_count": 20,
   "id": "7b0b8c2c",
   "metadata": {},
   "outputs": [],
   "source": [
    "from pyspark.sql.functions import col,when,to_date\n",
    "date_string = \"1800-01-01\"\n",
    "ben_2009 = ben_2009.withColumn(\"Date_of_death\", \\\n",
    "       when(col(\"Date_of_death\")==date_string ,None) \\\n",
    "          .otherwise(col(\"Date_of_death\")))"
   ]
  },
  {
   "cell_type": "code",
   "execution_count": 24,
   "id": "7e2ff030",
   "metadata": {},
   "outputs": [],
   "source": [
    "myColumns = ['Alzheimer',\n",
    " 'Heart_Failure',\n",
    " 'Chronic_Kidney_Disease',\n",
    " 'Cancer',\n",
    " 'Chronic_Obstructive_Pulmonary_Disease',\n",
    " 'Depression',\n",
    " 'Diabetes',\n",
    " 'Ischemic_Heart_Disease',\n",
    " 'Osteoporosis',\n",
    " 'Rheumatoid_arthritis_osteoarthritis',\n",
    " 'Stroke_transient_Ischemic_Attack']"
   ]
  },
  {
   "cell_type": "code",
   "execution_count": 25,
   "id": "51f6b5b2",
   "metadata": {},
   "outputs": [],
   "source": [
    "from pyspark.sql.functions import regexp_replace\n",
    "for i in myColumns:\n",
    "    ben_2009 = ben_2009.withColumn(i, regexp_replace(i, '2', '0'))"
   ]
  },
  {
   "cell_type": "code",
   "execution_count": 29,
   "id": "e5c136eb",
   "metadata": {},
   "outputs": [],
   "source": [
    "ben_2009 = ben_2009.withColumn('total_number_of_diseases', ben_2009.Alzheimer + ben_2009.Heart_Failure + ben_2009.Chronic_Kidney_Disease + ben_2009.Cancer + ben_2009.Chronic_Obstructive_Pulmonary_Disease + ben_2009.Depression + ben_2009.Diabetes + ben_2009.Stroke_transient_Ischemic_Attack + ben_2009.Rheumatoid_arthritis_osteoarthritis + ben_2009.Osteoporosis + ben_2009.Ischemic_Heart_Disease)"
   ]
  },
  {
   "cell_type": "code",
   "execution_count": 31,
   "id": "39c2be4f",
   "metadata": {},
   "outputs": [
    {
     "data": {
      "text/plain": [
       "[('Date_of_birth', 'date'),\n",
       " ('Date_of_death', 'date'),\n",
       " ('End_stage_renal_disease_Indicator', 'string'),\n",
       " ('Total_months_partA_coverage', 'string'),\n",
       " ('Total_months_HMO_coverage', 'string'),\n",
       " ('Race_Code', 'string'),\n",
       " ('Gender', 'string'),\n",
       " ('Total_months_partB_coverage', 'string'),\n",
       " ('Inpatient_responsibility_amount', 'string'),\n",
       " ('Outpatient_responsibility_amount', 'string'),\n",
       " ('DESYNPUF_ID', 'string'),\n",
       " ('Inpatient_reimbursement_amount', 'string'),\n",
       " ('Outpatient_reimbursement_amount', 'string'),\n",
       " ('Total_months_partD_coverage', 'string'),\n",
       " ('Inpatient_primary_payer_reimbursement_amount', 'string'),\n",
       " ('Outpatient_primary_payer_reimbursement_amount', 'string'),\n",
       " ('Alzheimer', 'string'),\n",
       " ('Heart_Failure', 'string'),\n",
       " ('Chronic_Kidney_Disease', 'string'),\n",
       " ('Cancer', 'string'),\n",
       " ('Chronic_Obstructive_Pulmonary_Disease', 'string'),\n",
       " ('Depression', 'string'),\n",
       " ('Diabetes', 'string'),\n",
       " ('Ischemic_Heart_Disease', 'string'),\n",
       " ('Osteoporosis', 'string'),\n",
       " ('Rheumatoid_arthritis_osteoarthritis', 'string'),\n",
       " ('State_Code', 'string'),\n",
       " ('Stroke_transient_Ischemic_Attack', 'string'),\n",
       " ('total_number_of_diseases', 'double')]"
      ]
     },
     "execution_count": 31,
     "metadata": {},
     "output_type": "execute_result"
    }
   ],
   "source": [
    "ben_2009.dtypes"
   ]
  },
  {
   "cell_type": "code",
   "execution_count": 32,
   "id": "ce634aa2",
   "metadata": {},
   "outputs": [],
   "source": [
    "ben_2009 = ben_2009.withColumn(\"total_number_of_diseases\", \n",
    "                                  ben_2009[\"total_number_of_diseases\"]\n",
    "                                  .cast('int'))"
   ]
  },
  {
   "cell_type": "code",
   "execution_count": 35,
   "id": "391a82aa",
   "metadata": {},
   "outputs": [],
   "source": [
    "for i in myColumns:\n",
    "    ben_2009 = ben_2009.withColumn(i,ben_2009[i].cast('boolean'))"
   ]
  },
  {
   "cell_type": "code",
   "execution_count": 38,
   "id": "998176dd",
   "metadata": {},
   "outputs": [],
   "source": [
    "from pyspark.sql.functions import year\n",
    "from pyspark.sql.functions import to_date"
   ]
  },
  {
   "cell_type": "code",
   "execution_count": 39,
   "id": "4e58448e",
   "metadata": {},
   "outputs": [],
   "source": [
    "ben_2009 = ben_2009.withColumn('year',year(ben_2009.Date_of_birth))"
   ]
  },
  {
   "cell_type": "code",
   "execution_count": 43,
   "id": "d953a80d",
   "metadata": {},
   "outputs": [
    {
     "data": {
      "text/plain": [
       "[('Date_of_birth', 'date'),\n",
       " ('Date_of_death', 'date'),\n",
       " ('End_stage_renal_disease_Indicator', 'string'),\n",
       " ('Total_months_partA_coverage', 'string'),\n",
       " ('Total_months_HMO_coverage', 'string'),\n",
       " ('Race_Code', 'string'),\n",
       " ('Gender', 'string'),\n",
       " ('Total_months_partB_coverage', 'string'),\n",
       " ('Inpatient_responsibility_amount', 'string'),\n",
       " ('Outpatient_responsibility_amount', 'string'),\n",
       " ('DESYNPUF_ID', 'string'),\n",
       " ('Inpatient_reimbursement_amount', 'string'),\n",
       " ('Outpatient_reimbursement_amount', 'string'),\n",
       " ('Total_months_partD_coverage', 'string'),\n",
       " ('Inpatient_primary_payer_reimbursement_amount', 'string'),\n",
       " ('Outpatient_primary_payer_reimbursement_amount', 'string'),\n",
       " ('Alzheimer', 'boolean'),\n",
       " ('Heart_Failure', 'boolean'),\n",
       " ('Chronic_Kidney_Disease', 'boolean'),\n",
       " ('Cancer', 'boolean'),\n",
       " ('Chronic_Obstructive_Pulmonary_Disease', 'boolean'),\n",
       " ('Depression', 'boolean'),\n",
       " ('Diabetes', 'boolean'),\n",
       " ('Ischemic_Heart_Disease', 'boolean'),\n",
       " ('Osteoporosis', 'boolean'),\n",
       " ('Rheumatoid_arthritis_osteoarthritis', 'boolean'),\n",
       " ('State_Code', 'string'),\n",
       " ('Stroke_transient_Ischemic_Attack', 'boolean'),\n",
       " ('total_number_of_diseases', 'int'),\n",
       " ('year', 'int')]"
      ]
     },
     "execution_count": 43,
     "metadata": {},
     "output_type": "execute_result"
    }
   ],
   "source": [
    "ben_2009.dtypes"
   ]
  },
  {
   "cell_type": "code",
   "execution_count": 44,
   "id": "cd1973ce",
   "metadata": {},
   "outputs": [],
   "source": [
    "ben_2009 = ben_2009.withColumn(\"Age\", 2009 - ben_2009.year)"
   ]
  },
  {
   "cell_type": "code",
   "execution_count": 47,
   "id": "eb39b367",
   "metadata": {},
   "outputs": [],
   "source": [
    "dummy_2009 = ben_2009[['DESYNPUF_ID','Total_months_partA_coverage','Total_months_HMO_coverage','Total_months_partB_coverage','Total_months_partD_coverage']]"
   ]
  },
  {
   "cell_type": "code",
   "execution_count": 48,
   "id": "625473b7",
   "metadata": {},
   "outputs": [],
   "source": [
    "dummy_col = ['Total_months_partA_coverage','Total_months_HMO_coverage','Total_months_partB_coverage','Total_months_partD_coverage']"
   ]
  },
  {
   "cell_type": "code",
   "execution_count": 49,
   "id": "d287c79d",
   "metadata": {},
   "outputs": [],
   "source": [
    "for i in dummy_col:\n",
    "    dummy_2009 = dummy_2009.withColumn(i, \\\n",
    "              when(dummy_2009[i] > 0, 1).otherwise(0))"
   ]
  },
  {
   "cell_type": "code",
   "execution_count": 50,
   "id": "e131d98c",
   "metadata": {},
   "outputs": [],
   "source": [
    "dummy_2009_pandas = dummy_2009.toPandas()"
   ]
  },
  {
   "cell_type": "code",
   "execution_count": 51,
   "id": "b896cf55",
   "metadata": {},
   "outputs": [],
   "source": [
    "dummy_2009_pandas['total_number_of_Insurance'] = dummy_2009_pandas['Total_months_partA_coverage'] + dummy_2009_pandas['Total_months_HMO_coverage'] + dummy_2009_pandas['Total_months_partB_coverage'] + dummy_2009_pandas['Total_months_partD_coverage']"
   ]
  },
  {
   "cell_type": "code",
   "execution_count": 52,
   "id": "1536ac41",
   "metadata": {},
   "outputs": [],
   "source": [
    "dummy_2009_spark = spark.createDataFrame(dummy_2009_pandas)"
   ]
  },
  {
   "cell_type": "code",
   "execution_count": 53,
   "id": "7bff366a",
   "metadata": {},
   "outputs": [],
   "source": [
    "dummy_2009_spark.createOrReplaceTempView('dummy_2009_spark')"
   ]
  },
  {
   "cell_type": "code",
   "execution_count": 54,
   "id": "32e93ce5",
   "metadata": {},
   "outputs": [
    {
     "data": {
      "text/plain": [
       "[('DESYNPUF_ID', 'string'),\n",
       " ('Total_months_partA_coverage', 'bigint'),\n",
       " ('Total_months_HMO_coverage', 'bigint'),\n",
       " ('Total_months_partB_coverage', 'bigint'),\n",
       " ('Total_months_partD_coverage', 'bigint'),\n",
       " ('total_number_of_Insurance', 'bigint')]"
      ]
     },
     "execution_count": 54,
     "metadata": {},
     "output_type": "execute_result"
    }
   ],
   "source": [
    "dummy_2009_spark.dtypes"
   ]
  },
  {
   "cell_type": "code",
   "execution_count": 55,
   "id": "90dd5005",
   "metadata": {},
   "outputs": [],
   "source": [
    "dummy_2009_spark = dummy_2009_spark.drop('Total_months_partA_coverage','Total_months_HMO_coverage','Total_months_partB_coverage','Total_months_partD_coverage')"
   ]
  },
  {
   "cell_type": "code",
   "execution_count": 56,
   "id": "8f232e75",
   "metadata": {},
   "outputs": [],
   "source": [
    "final_2009 = (ben_2009.join(dummy_2009_spark,\n",
    "                               on = ben_2009['DESYNPUF_ID'] == dummy_2009_spark['DESYNPUF_ID'],\n",
    "                               how = 'inner')\n",
    "                         .select(ben_2009['*'],\n",
    "                                 dummy_2009_spark['total_number_of_Insurance']))"
   ]
  },
  {
   "cell_type": "code",
   "execution_count": 60,
   "id": "d62b0497",
   "metadata": {},
   "outputs": [],
   "source": [
    "final_2009_pandas = age_query.toPandas()"
   ]
  },
  {
   "cell_type": "code",
   "execution_count": 62,
   "id": "ad43be66",
   "metadata": {
    "scrolled": true
   },
   "outputs": [
    {
     "data": {
      "text/plain": [
       "[('Date_of_birth', 'date'),\n",
       " ('Date_of_death', 'date'),\n",
       " ('End_stage_renal_disease_Indicator', 'string'),\n",
       " ('Total_months_partA_coverage', 'string'),\n",
       " ('Total_months_HMO_coverage', 'string'),\n",
       " ('Race_Code', 'string'),\n",
       " ('Gender', 'string'),\n",
       " ('Total_months_partB_coverage', 'string'),\n",
       " ('Inpatient_responsibility_amount', 'string'),\n",
       " ('Outpatient_responsibility_amount', 'string'),\n",
       " ('DESYNPUF_ID', 'string'),\n",
       " ('Inpatient_reimbursement_amount', 'string'),\n",
       " ('Outpatient_reimbursement_amount', 'string'),\n",
       " ('Total_months_partD_coverage', 'string'),\n",
       " ('Inpatient_primary_payer_reimbursement_amount', 'string'),\n",
       " ('Outpatient_primary_payer_reimbursement_amount', 'string'),\n",
       " ('Alzheimer', 'boolean'),\n",
       " ('Heart_Failure', 'boolean'),\n",
       " ('Chronic_Kidney_Disease', 'boolean'),\n",
       " ('Cancer', 'boolean'),\n",
       " ('Chronic_Obstructive_Pulmonary_Disease', 'boolean'),\n",
       " ('Depression', 'boolean'),\n",
       " ('Diabetes', 'boolean'),\n",
       " ('Ischemic_Heart_Disease', 'boolean'),\n",
       " ('Osteoporosis', 'boolean'),\n",
       " ('Rheumatoid_arthritis_osteoarthritis', 'boolean'),\n",
       " ('State_Code', 'string'),\n",
       " ('Stroke_transient_Ischemic_Attack', 'boolean'),\n",
       " ('total_number_of_diseases', 'int'),\n",
       " ('year', 'int'),\n",
       " ('Age', 'int'),\n",
       " ('total_number_of_Insurance', 'bigint')]"
      ]
     },
     "execution_count": 62,
     "metadata": {},
     "output_type": "execute_result"
    }
   ],
   "source": [
    "final_2009.dtypes"
   ]
  },
  {
   "cell_type": "code",
   "execution_count": 63,
   "id": "69558912",
   "metadata": {},
   "outputs": [],
   "source": [
    "final_2009.write.format(\"com.mongodb.spark.sql.DefaultSource\").mode(\"append\").option(\"spark.mongodb.output.uri\",\"mongodb://localhost:27017/Cleaned_Insurance.ben_2009\").save()"
   ]
  }
 ],
 "metadata": {
  "kernelspec": {
   "display_name": "Python 3 (ipykernel)",
   "language": "python",
   "name": "python3"
  },
  "language_info": {
   "codemirror_mode": {
    "name": "ipython",
    "version": 3
   },
   "file_extension": ".py",
   "mimetype": "text/x-python",
   "name": "python",
   "nbconvert_exporter": "python",
   "pygments_lexer": "ipython3",
   "version": "3.9.13"
  }
 },
 "nbformat": 4,
 "nbformat_minor": 5
}
