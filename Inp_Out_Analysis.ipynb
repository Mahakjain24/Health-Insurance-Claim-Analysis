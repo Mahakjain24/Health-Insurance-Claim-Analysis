{
 "cells": [
  {
   "cell_type": "code",
   "execution_count": 1,
   "id": "c5a3f850",
   "metadata": {},
   "outputs": [],
   "source": [
    "import findspark\n",
    "findspark.init('E:\\spark\\spark-3.3.1-bin-hadoop2/')\n",
    "import pyspark\n",
    "import seaborn as sns\n",
    "import pandas as pd\n",
    "\n",
    "from pyspark.sql import SparkSession\n",
    "from pyspark import SparkContext\n",
    "\n",
    "mongo_ip = 'mongodb://localhost:27017/Cleaned_Insurance'\n",
    "\n",
    "spark = SparkSession \\\n",
    ".builder\\\n",
    ".appName(\"myApp\")\\\n",
    ".config(\"spark.jars.packages\", \"org.mongodb.spark:mongo-spark-connector_2.12:3.0.1\")\\\n",
    ".getOrCreate()"
   ]
  },
  {
   "cell_type": "code",
   "execution_count": 2,
   "id": "59da9aec",
   "metadata": {},
   "outputs": [],
   "source": [
    "inp = spark.read.format(\"com.mongodb.spark.sql.DefaultSource\").option(\"uri\",mongo_ip + \".Inpatient\").load()\n",
    "inp.createOrReplaceTempView('inp')"
   ]
  },
  {
   "cell_type": "code",
   "execution_count": 3,
   "id": "ad62a810",
   "metadata": {},
   "outputs": [],
   "source": [
    "out = spark.read.format(\"com.mongodb.spark.sql.DefaultSource\").option(\"uri\",mongo_ip + \".Outpatient\").load()\n",
    "out.createOrReplaceTempView('out')"
   ]
  },
  {
   "cell_type": "code",
   "execution_count": 4,
   "id": "d4c3e8e6",
   "metadata": {},
   "outputs": [
    {
     "data": {
      "text/plain": [
       "['Beneficiary_Blood_Deductible_Liability_Amount',\n",
       " 'Beneficiary_Inpatient_Deductible_Amount',\n",
       " 'Beneficiary_PartA_Coinsurance_Liability_Amount',\n",
       " 'Claim_Admission_Date',\n",
       " 'Claim_Admitting_Diagnosis_Code',\n",
       " 'Claim_End_Date',\n",
       " 'Claim_ID',\n",
       " 'Claim_Pass_Thru_Per_Diem_Amount',\n",
       " 'Claim_Payment_Amount',\n",
       " 'Claim_Start_Date',\n",
       " 'Claim_Utilization_Day_Count',\n",
       " 'DESYNPUF_ID',\n",
       " 'Inpatient_discharged_date',\n",
       " 'Primary_Payer_Claim_Paid_Amount',\n",
       " 'Provider_Number',\n",
       " '_id']"
      ]
     },
     "execution_count": 4,
     "metadata": {},
     "output_type": "execute_result"
    }
   ],
   "source": [
    "inp.columns"
   ]
  },
  {
   "cell_type": "markdown",
   "id": "bd7aba14",
   "metadata": {},
   "source": [
    "## TOP 10 MAX CLAIMS BY BENEF ID"
   ]
  },
  {
   "cell_type": "code",
   "execution_count": 8,
   "id": "d97468f4",
   "metadata": {},
   "outputs": [],
   "source": [
    "a = spark.sql(\"select DESYNPUF_ID,sum(Claim_Payment_Amount) as Total_amount_claimed from inp group by DESYNPUF_ID order by Total_amount_claimed desc limit 10\")\n",
    "a_p = a.toPandas()\n",
    "a_p.to_csv('C:/Users/ASUS/Desktop/Insurance/Queries/Inpatient/Top_Max_Claims_By_BenefID.csv',  index=False)"
   ]
  },
  {
   "cell_type": "code",
   "execution_count": 14,
   "id": "d4fd6540",
   "metadata": {},
   "outputs": [],
   "source": [
    "a = spark.sql(\"select DESYNPUF_ID,sum(Claim_Payment_Amount) as Total_amount_claimed from out group by DESYNPUF_ID order by Total_amount_claimed desc limit 10\")\n",
    "a_p = a.toPandas()\n",
    "a_p.to_csv('C:/Users/ASUS/Desktop/Insurance/Queries/Outpatient/T_Top_Max_Claims_By_BenefID.csv',  index=False)"
   ]
  },
  {
   "cell_type": "markdown",
   "id": "9f929c32",
   "metadata": {},
   "source": [
    "## NUMBER OF CLAIMS IN EACH YEAR"
   ]
  },
  {
   "cell_type": "code",
   "execution_count": 19,
   "id": "fd4bb0c7",
   "metadata": {},
   "outputs": [],
   "source": [
    "from pyspark.sql.functions import year\n",
    "from pyspark.sql.functions import to_date\n",
    " \n",
    "inp = inp.withColumn('Year',year(inp.Claim_Start_Date))\n",
    "inp.createOrReplaceTempView('inp')"
   ]
  },
  {
   "cell_type": "code",
   "execution_count": 23,
   "id": "6e57e464",
   "metadata": {},
   "outputs": [],
   "source": [
    "a = spark.sql(\"select Year,count(Claim_ID) from inp group by Year\")\n",
    "a_p = a.toPandas()\n",
    "a_p.to_csv('C:/Users/ASUS/Desktop/Insurance/Queries/Inpatient/NUMBER_OF_CLAIMS_IN_EACH_YEAR.csv',  index=False)"
   ]
  },
  {
   "cell_type": "code",
   "execution_count": 27,
   "id": "a91f0e3d",
   "metadata": {},
   "outputs": [],
   "source": [
    "a = spark.sql(\"select Year,count(CLM_ID) from out group by Year\")\n",
    "a_p = a.toPandas()\n",
    "a_p.to_csv('C:/Users/ASUS/Desktop/Insurance/Queries/Outpatient/NUMBER_OF_CLAIMS_IN_EACH_YEAR.csv',  index=False)"
   ]
  },
  {
   "cell_type": "markdown",
   "id": "97dfb37d",
   "metadata": {},
   "source": [
    "## Average Claim Amount"
   ]
  },
  {
   "cell_type": "code",
   "execution_count": 29,
   "id": "80ca9ffa",
   "metadata": {},
   "outputs": [],
   "source": [
    "a = spark.sql(\"select avg(Claim_Payment_Amount) as Average_Claim from inp\")\n",
    "a_p = a.toPandas()\n",
    "a_p.to_csv('C:/Users/ASUS/Desktop/Insurance/Queries/Inpatient/Average_Claim_Amount.csv',  index=False)"
   ]
  },
  {
   "cell_type": "code",
   "execution_count": 30,
   "id": "947d4994",
   "metadata": {},
   "outputs": [],
   "source": [
    "a = spark.sql(\"select avg(Claim_Payment_Amount) as Average_Claim from out\")\n",
    "a_p = a.toPandas()\n",
    "a_p.to_csv('C:/Users/ASUS/Desktop/Insurance/Queries/Outpatient/Average_Claim_Amount.csv',  index=False)"
   ]
  },
  {
   "cell_type": "markdown",
   "id": "b67d437e",
   "metadata": {},
   "source": [
    "## TOP 5 Providers With Maximum Claims"
   ]
  },
  {
   "cell_type": "code",
   "execution_count": 33,
   "id": "aa5e572c",
   "metadata": {},
   "outputs": [],
   "source": [
    "a = spark.sql(\"select Provider_Number,sum(Claim_Payment_Amount) as Total_Claim_Amount from inp group by Provider_Number order by Total_Claim_Amount desc limit 5\")\n",
    "a_p = a.toPandas()\n",
    "a_p.to_csv('C:/Users/ASUS/Desktop/Insurance/Queries/Inpatient/TOP_5_Providers_With_Maximum_Claims.csv',  index=False)"
   ]
  },
  {
   "cell_type": "code",
   "execution_count": 34,
   "id": "bb794c5c",
   "metadata": {},
   "outputs": [],
   "source": [
    "a = spark.sql(\"select Provider_Number,sum(Claim_Payment_Amount) as Total_Claim_Amount from out group by Provider_Number order by Total_Claim_Amount desc limit 5\")\n",
    "a_p = a.toPandas()\n",
    "a_p.to_csv('C:/Users/ASUS/Desktop/Insurance/Queries/Outpatient/TOP_5_Providers_With_Maximum_Claims.csv',  index=False)"
   ]
  },
  {
   "cell_type": "markdown",
   "id": "1e662772",
   "metadata": {},
   "source": [
    "## Total number of In and Out people taken claims "
   ]
  },
  {
   "cell_type": "code",
   "execution_count": 42,
   "id": "0c6215c7",
   "metadata": {},
   "outputs": [],
   "source": [
    "a = spark.sql(\"select count(DESYNPUF_ID) as Inp_Total,(select count(DESYNPUF_ID) as Out_Total from out) as Out_Total from inp\")"
   ]
  },
  {
   "cell_type": "code",
   "execution_count": 44,
   "id": "4b138814",
   "metadata": {},
   "outputs": [],
   "source": [
    "a_p = a.toPandas()"
   ]
  },
  {
   "cell_type": "code",
   "execution_count": 45,
   "id": "192917bd",
   "metadata": {},
   "outputs": [],
   "source": [
    "a_p.to_csv('C:/Users/ASUS/Desktop/Insurance/Queries/Combined/Count_of_people_taken_claims_IN_OUT.csv',  index=False)"
   ]
  },
  {
   "cell_type": "markdown",
   "id": "be3eec11",
   "metadata": {},
   "source": [
    "## Year wise total claims In Out"
   ]
  },
  {
   "cell_type": "code",
   "execution_count": 49,
   "id": "9e575c78",
   "metadata": {},
   "outputs": [],
   "source": [
    "a = spark.sql(\"select Year,count(Claim_Payment_Amount) as Total_Claims from inp group by Year\")\n",
    "a_p = a.toPandas()\n",
    "a_p.to_csv('C:/Users/ASUS/Desktop/Insurance/Queries/Inpatient/Year_wise_total_claims.csv',  index=False)"
   ]
  },
  {
   "cell_type": "code",
   "execution_count": 50,
   "id": "48073f22",
   "metadata": {},
   "outputs": [],
   "source": [
    "a = spark.sql(\"select Year,count(Claim_Payment_Amount) as Total_Claims from out group by Year\")\n",
    "a_p = a.toPandas()\n",
    "a_p.to_csv('C:/Users/ASUS/Desktop/Insurance/Queries/Outpatient/Year_wise_total_claims.csv',  index=False)"
   ]
  },
  {
   "cell_type": "code",
   "execution_count": null,
   "id": "c6862cf7",
   "metadata": {},
   "outputs": [],
   "source": []
  }
 ],
 "metadata": {
  "kernelspec": {
   "display_name": "Python 3 (ipykernel)",
   "language": "python",
   "name": "python3"
  },
  "language_info": {
   "codemirror_mode": {
    "name": "ipython",
    "version": 3
   },
   "file_extension": ".py",
   "mimetype": "text/x-python",
   "name": "python",
   "nbconvert_exporter": "python",
   "pygments_lexer": "ipython3",
   "version": "3.9.13"
  }
 },
 "nbformat": 4,
 "nbformat_minor": 5
}
