{
 "cells": [
  {
   "cell_type": "code",
   "execution_count": null,
   "id": "77adfdcc",
   "metadata": {},
   "outputs": [],
   "source": [
    "import findspark\n",
    "findspark.init('D:\\spark\\spark-3.3.2-bin-hadoop2')"
   ]
  },
  {
   "cell_type": "code",
   "execution_count": null,
   "id": "b351a208",
   "metadata": {},
   "outputs": [],
   "source": [
    "from pyspark.sql import SparkSession\n",
    "from pyspark import SparkContext"
   ]
  },
  {
   "cell_type": "code",
   "execution_count": null,
   "id": "9789274b",
   "metadata": {},
   "outputs": [],
   "source": [
    "mongo_ip = 'mongodb://localhost:27017/Cleaned_Insurance'"
   ]
  },
  {
   "cell_type": "code",
   "execution_count": null,
   "id": "b90e8b30",
   "metadata": {},
   "outputs": [],
   "source": [
    "spark = SparkSession \\\n",
    ".builder\\\n",
    ".appName(\"myApp1\")\\\n",
    ".config(\"spark.jars.packages\", \"org.mongodb.spark:mongo-spark-connector_2.12:3.0.1\")\\\n",
    ".getOrCreate()"
   ]
  },
  {
   "cell_type": "code",
   "execution_count": null,
   "id": "2e12a91d",
   "metadata": {},
   "outputs": [],
   "source": [
    "ben_8 = spark.read.format(\"com.mongodb.spark.sql.DefaultSource\").option(\"uri\",mongo_ip + \".ben_2008\").load()"
   ]
  },
  {
   "cell_type": "code",
   "execution_count": null,
   "id": "a379f11b",
   "metadata": {},
   "outputs": [],
   "source": [
    "ben_9 = spark.read.format(\"com.mongodb.spark.sql.DefaultSource\").option(\"uri\",mongo_ip + \".ben_2009\").load()"
   ]
  },
  {
   "cell_type": "code",
   "execution_count": null,
   "id": "59fa948a",
   "metadata": {},
   "outputs": [],
   "source": [
    "ben_10 = spark.read.format(\"com.mongodb.spark.sql.DefaultSource\").option(\"uri\",mongo_ip + \".ben_2010\").load()"
   ]
  },
  {
   "cell_type": "code",
   "execution_count": null,
   "id": "6133320b",
   "metadata": {},
   "outputs": [],
   "source": [
    "Inp =  spark.read.format(\"com.mongodb.spark.sql.DefaultSource\").option(\"uri\",mongo_ip + \".Inpatient\").load()"
   ]
  },
  {
   "cell_type": "code",
   "execution_count": null,
   "id": "70ed06c4",
   "metadata": {},
   "outputs": [],
   "source": [
    "ben_10.dtypes"
   ]
  },
  {
   "cell_type": "code",
   "execution_count": null,
   "id": "5e7999de",
   "metadata": {},
   "outputs": [],
   "source": [
    "from pyspark.ml.feature import Bucketizer\n",
    "\n",
    "boundaries = [25,30,40,50,60,70,80,90,100]\n",
    "bucketizer = Bucketizer(splits=boundaries, inputCol=\"Age\", outputCol=\"Age_Group\")\n",
    "ben_10 = bucketizer.transform(ben_10)"
   ]
  },
  {
   "cell_type": "code",
   "execution_count": null,
   "id": "e38362af",
   "metadata": {},
   "outputs": [],
   "source": [
    "df.dtypes"
   ]
  },
  {
   "cell_type": "code",
   "execution_count": null,
   "id": "41a9ca40",
   "metadata": {},
   "outputs": [],
   "source": [
    "df.createOrReplaceTempView(\"df\")"
   ]
  },
  {
   "cell_type": "code",
   "execution_count": null,
   "id": "94af0de8",
   "metadata": {},
   "outputs": [],
   "source": [
    "spark.sql(\"select Age,Age_Group from ben_8 where Age>90\").show()"
   ]
  },
  {
   "cell_type": "code",
   "execution_count": null,
   "id": "2585de9e",
   "metadata": {
    "scrolled": true
   },
   "outputs": [],
   "source": [
    "df.select('Gender').distinct().collect()"
   ]
  },
  {
   "cell_type": "markdown",
   "id": "f4cc3f60",
   "metadata": {},
   "source": [
    "## Mortality Rate By Gender\n"
   ]
  },
  {
   "cell_type": "code",
   "execution_count": null,
   "id": "89b3948d",
   "metadata": {},
   "outputs": [],
   "source": [
    "from pyspark.sql.functions import when\n",
    "df = df.withColumn(\"Gender\", when(df[\"Gender\"] == 1 , 'M').otherwise('F'))"
   ]
  },
  {
   "cell_type": "code",
   "execution_count": null,
   "id": "4ef5c6e4",
   "metadata": {},
   "outputs": [],
   "source": [
    "from pyspark.sql.functions import when"
   ]
  },
  {
   "cell_type": "code",
   "execution_count": null,
   "id": "7dbb189b",
   "metadata": {},
   "outputs": [],
   "source": [
    "df.createOrReplaceTempView(\"df\")"
   ]
  },
  {
   "cell_type": "code",
   "execution_count": null,
   "id": "0bc50fa5",
   "metadata": {},
   "outputs": [],
   "source": [
    "mr = spark.sql('select Gender,count(*) as Mortality_count_by_Gender from df where Date_of_death is not null group by Gender')"
   ]
  },
  {
   "cell_type": "code",
   "execution_count": null,
   "id": "bb32d851",
   "metadata": {},
   "outputs": [],
   "source": [
    "MR = mr.toPandas()"
   ]
  },
  {
   "cell_type": "code",
   "execution_count": null,
   "id": "897372f6",
   "metadata": {},
   "outputs": [],
   "source": [
    "MR.to_csv('C:/Users/vishw/OneDrive/Desktop/Insurance/Streamlit/BENEF/B_9/b_9_Mortality_Rate_By_Gender.csv',  index=False)"
   ]
  },
  {
   "cell_type": "code",
   "execution_count": null,
   "id": "0141cc66",
   "metadata": {},
   "outputs": [],
   "source": [
    "import seaborn as sns\n",
    "import matplotlib.pyplot as plt\n",
    "sns.barplot(x = 'Gender',y = 'Mortality_count_by_Gender',data = MR)\n",
    "plt.show()"
   ]
  },
  {
   "cell_type": "markdown",
   "id": "dad24239",
   "metadata": {},
   "source": [
    "## Mortality Rate By AgeGroup"
   ]
  },
  {
   "cell_type": "code",
   "execution_count": null,
   "id": "4cb07388",
   "metadata": {},
   "outputs": [],
   "source": [
    "from pyspark.ml.feature import Bucketizer\n",
    "\n",
    "boundaries = [25,30,40,50,60,70,80,90,100]\n",
    "bucketizer = Bucketizer(splits=boundaries, inputCol=\"Age\", outputCol=\"Age_Group\")\n",
    "ben_10 = bucketizer.transform(ben_10)"
   ]
  },
  {
   "cell_type": "code",
   "execution_count": null,
   "id": "7a40674f",
   "metadata": {},
   "outputs": [],
   "source": [
    "from pyspark.sql.functions import when\n",
    "ben_10 = ben_10.withColumn(\"Age_Group\", when(ben_10.Age_Group == 0.0, \"25-30\").when(ben_10.Age_Group == 1.0, \"31-40\").when(ben_10.Age_Group == 2.0, \"41-50\").when(ben_10.Age_Group == 3.0, \"51-60\").when(ben_10.Age_Group == 4.0, \"61-70\").when(ben_10.Age_Group == 5.0, \"71-100\").when(ben_10.Age_Group == 6.0, \"101-90\").otherwise(\"91-100\"))"
   ]
  },
  {
   "cell_type": "code",
   "execution_count": null,
   "id": "5fbd8d6b",
   "metadata": {},
   "outputs": [],
   "source": [
    "ben_10.createOrReplaceTempView(\"ben_10\")"
   ]
  },
  {
   "cell_type": "code",
   "execution_count": null,
   "id": "c68cd56e",
   "metadata": {},
   "outputs": [],
   "source": [
    "ben_10.columns"
   ]
  },
  {
   "cell_type": "code",
   "execution_count": null,
   "id": "2f3becb1",
   "metadata": {},
   "outputs": [],
   "source": [
    "b_10 = spark.sql(\"select Age_Group,count(Date_of_death) as cnt from ben_10 where Date_of_death is not null group by Age_Group order by cnt desc\")\n",
    "b_10_pandas = b_10.toPandas()"
   ]
  },
  {
   "cell_type": "code",
   "execution_count": null,
   "id": "362bdad3",
   "metadata": {},
   "outputs": [],
   "source": [
    "b_10.show()"
   ]
  },
  {
   "cell_type": "code",
   "execution_count": null,
   "id": "5f475218",
   "metadata": {},
   "outputs": [],
   "source": [
    "b_10_pandas.to_csv('C:/Users/vishw/OneDrive/Desktop/Insurance/Streamlit/BENEF/B_10/b_10_Mortality_Rate_By_AgeGroup.csv',index=False)"
   ]
  },
  {
   "cell_type": "markdown",
   "id": "31066264",
   "metadata": {},
   "source": [
    "## Mortality rate Disease Wise per year"
   ]
  },
  {
   "cell_type": "markdown",
   "id": "9e676854",
   "metadata": {},
   "source": [
    "### 2008"
   ]
  },
  {
   "cell_type": "code",
   "execution_count": null,
   "id": "8c6000fb",
   "metadata": {},
   "outputs": [],
   "source": [
    "from pyspark.sql.functions import col\n",
    "bmr_8 = ben_8.select(col(\"DESYNPUF_ID\"),col('Date_of_death'))\n",
    "Inr = Inp.select(col('DESYNPUF_ID'),col('Claim_Admitting_Diagnosis_Code'))\n",
    "joined_df = bmr_8.join(Inr, on=\"DESYNPUF_ID\", how=\"inner\")"
   ]
  },
  {
   "cell_type": "code",
   "execution_count": null,
   "id": "69ee08f0",
   "metadata": {},
   "outputs": [],
   "source": [
    "joined_df.createOrReplaceTempView('joined')"
   ]
  },
  {
   "cell_type": "code",
   "execution_count": null,
   "id": "d9d55047",
   "metadata": {},
   "outputs": [],
   "source": [
    "spark.sql('select Claim_Admitting_Diagnosis_Code,count(Date_of_death) as cnt \\\n",
    "from joined group by Claim_Admitting_Diagnosis_Code order by cnt desc limit 10').show()"
   ]
  },
  {
   "cell_type": "code",
   "execution_count": null,
   "id": "a754c594",
   "metadata": {},
   "outputs": [],
   "source": [
    "code.createOrReplaceTempView(\"code\")"
   ]
  },
  {
   "cell_type": "code",
   "execution_count": null,
   "id": "32858c46",
   "metadata": {},
   "outputs": [],
   "source": [
    "code_p = code.toPandas()"
   ]
  },
  {
   "cell_type": "code",
   "execution_count": null,
   "id": "1a5af44b",
   "metadata": {},
   "outputs": [],
   "source": [
    "code_p.to_csv('C:/Users/vishw/OneDrive/Desktop/Insurance/Streamlit/BENEF/B_8/b_8_Mortality_Rate_Di_By_Gender.csv',index=False)"
   ]
  },
  {
   "cell_type": "code",
   "execution_count": null,
   "id": "24bb66a8",
   "metadata": {},
   "outputs": [],
   "source": [
    "count_pandas = count.toPandas()"
   ]
  },
  {
   "cell_type": "code",
   "execution_count": null,
   "id": "bc413019",
   "metadata": {},
   "outputs": [],
   "source": [
    "# saving the dataframe\n",
    "count_pandas.to_csv('C:/Users/vishw/OneDrive/Desktop/Insurance/Streamlit/file.csv',  index=False)\n"
   ]
  },
  {
   "cell_type": "code",
   "execution_count": null,
   "id": "d7658194",
   "metadata": {},
   "outputs": [],
   "source": []
  },
  {
   "cell_type": "markdown",
   "id": "52ad6641",
   "metadata": {},
   "source": [
    "### 2009"
   ]
  },
  {
   "cell_type": "code",
   "execution_count": null,
   "id": "5db66116",
   "metadata": {},
   "outputs": [],
   "source": [
    "from pyspark.sql.functions import col\n",
    "bmr_9 = ben_9.select(col(\"DESYNPUF_ID\"),col('Date_of_death'))\n",
    "Inr = Inp.select(col('DESYNPUF_ID'),col('Claim_Admitting_Diagnosis_Code'))\n",
    "joined_df = bmr_9.join(Inr, on=\"DESYNPUF_ID\", how=\"inner\")\n",
    "\n",
    "joined_df.createOrReplaceTempView('joined')\n",
    "\n",
    "a = spark.sql('select Claim_Admitting_Diagnosis_Code,count(Date_of_death) as cnt from joined group by Claim_Admitting_Diagnosis_Code order by cnt desc limit 10')"
   ]
  },
  {
   "cell_type": "code",
   "execution_count": null,
   "id": "e116a249",
   "metadata": {},
   "outputs": [],
   "source": [
    "a_p = a.toPandas()"
   ]
  },
  {
   "cell_type": "code",
   "execution_count": null,
   "id": "2b470efb",
   "metadata": {},
   "outputs": [],
   "source": [
    "a_p.to_csv('C:/Users/vishw/OneDrive/Desktop/Insurance/Streamlit/BENEF/B_9/b_9_Mortality_Rate_Di_By_Gender.csv',index=False)"
   ]
  },
  {
   "cell_type": "markdown",
   "id": "572ef65f",
   "metadata": {},
   "source": [
    "### 2010"
   ]
  },
  {
   "cell_type": "code",
   "execution_count": null,
   "id": "dbe28ac1",
   "metadata": {},
   "outputs": [],
   "source": [
    "from pyspark.sql.functions import col\n",
    "bmr_10 = ben_10.select(col(\"DESYNPUF_ID\"),col('Date_of_death'))\n",
    "Inr = Inp.select(col('DESYNPUF_ID'),col('Claim_Admitting_Diagnosis_Code'))\n",
    "joined_df = bmr_10.join(Inr, on=\"DESYNPUF_ID\", how=\"inner\")\n",
    "\n",
    "joined_df.createOrReplaceTempView('joined')\n",
    "\n",
    "c= spark.sql('select Claim_Admitting_Diagnosis_Code,count(Date_of_death) as cnt from joined group by Claim_Admitting_Diagnosis_Code order by cnt desc limit 10')"
   ]
  },
  {
   "cell_type": "code",
   "execution_count": null,
   "id": "66c8ace8",
   "metadata": {},
   "outputs": [],
   "source": [
    "c_p = c.toPandas()"
   ]
  },
  {
   "cell_type": "code",
   "execution_count": null,
   "id": "2f848552",
   "metadata": {},
   "outputs": [],
   "source": [
    "c_p.to_csv('C:/Users/vishw/OneDrive/Desktop/Insurance/Streamlit/BENEF/B_10/b_10_Mortality_Rate_Di_By_Gender.csv',index=False)"
   ]
  },
  {
   "cell_type": "code",
   "execution_count": null,
   "id": "e381b7e4",
   "metadata": {},
   "outputs": [],
   "source": [
    "ben_10.columns"
   ]
  },
  {
   "cell_type": "markdown",
   "id": "7ab56794",
   "metadata": {},
   "source": [
    "## Maximum claim on which Disease"
   ]
  },
  {
   "cell_type": "code",
   "execution_count": null,
   "id": "69eadf73",
   "metadata": {},
   "outputs": [],
   "source": [
    "spark.sql('select Claim_Admitting_Diagnosis_Code,count(*) cnt from inp group by Claim_Admitting_Diagnosis_Code order by cnt desc limit 10').show()"
   ]
  },
  {
   "cell_type": "code",
   "execution_count": null,
   "id": "97090d5c",
   "metadata": {},
   "outputs": [],
   "source": [
    "ben_10.createOrReplaceTempView(\"ben_10\")"
   ]
  },
  {
   "cell_type": "markdown",
   "id": "e8dcc9a5",
   "metadata": {},
   "source": [
    "## Max Death on which Age_Group 2009"
   ]
  },
  {
   "cell_type": "code",
   "execution_count": null,
   "id": "6326caf8",
   "metadata": {},
   "outputs": [],
   "source": [
    "ben_10 = ben_10.withColumn(\"Age_Group\", when(ben_10.Age_Group == 0.0, \"25-30\").when(ben_10.Age_Group == 1.0, \"31-40\").when(ben_10.Age_Group == 2.0, \"41-50\").when(ben_10.Age_Group == 3.0, \"51-60\").when(ben_10.Age_Group == 4.0, \"61-70\").when(ben_10.Age_Group == 5.0, \"71-80\").when(ben_10.Age_Group == 6.0, \"81-90\").otherwise(\"91-100\"))"
   ]
  },
  {
   "cell_type": "code",
   "execution_count": null,
   "id": "bc817d81",
   "metadata": {},
   "outputs": [],
   "source": [
    "ben_10 = spark.sql(\"select Age_Group,count(Date_of_death) as cnt from ben_10 where Date_of_death is not null group by Age_Group order by cnt desc\")"
   ]
  },
  {
   "cell_type": "code",
   "execution_count": null,
   "id": "954164b7",
   "metadata": {},
   "outputs": [],
   "source": [
    "ben_8.show()"
   ]
  },
  {
   "cell_type": "code",
   "execution_count": null,
   "id": "09a0819a",
   "metadata": {},
   "outputs": [],
   "source": [
    "ben_10.show()"
   ]
  },
  {
   "cell_type": "code",
   "execution_count": null,
   "id": "8cc204e5",
   "metadata": {},
   "outputs": [],
   "source": [
    "ben_9.show()"
   ]
  },
  {
   "cell_type": "code",
   "execution_count": null,
   "id": "7c7229da",
   "metadata": {},
   "outputs": [],
   "source": [
    "ben_9 = ben_9.withColumn(\"Age_Group\", when(ben_9.Age_Group == 0.0, \"25-30\").when(ben_9.Age_Group == 1.0, \"31-40\").when(ben_9.Age_Group == 2.0, \"41-50\").when(ben_9.Age_Group == 3.0, \"51-60\").when(ben_9.Age_Group == 4.0, \"61-70\").when(ben_9.Age_Group == 5.0, \"71-80\").when(ben_9.Age_Group == 6.0, \"81-90\").otherwise(\"91-100\"))"
   ]
  },
  {
   "cell_type": "code",
   "execution_count": null,
   "id": "4456de2c",
   "metadata": {},
   "outputs": [],
   "source": [
    "b_8_pandas = ben_8.toPandas()"
   ]
  },
  {
   "cell_type": "code",
   "execution_count": null,
   "id": "3b149152",
   "metadata": {},
   "outputs": [],
   "source": [
    "ben_10.createOrReplaceTempView(\"ben_10\")"
   ]
  },
  {
   "cell_type": "code",
   "execution_count": null,
   "id": "4134619e",
   "metadata": {},
   "outputs": [],
   "source": [
    "b_8_pandas.to_csv('C:/Users/vishw/OneDrive/Desktop/Insurance/Streamlit/BENEF/B_8/b_8_Mortality_Rate_By_AgeGroup.csv',index=False)"
   ]
  },
  {
   "cell_type": "markdown",
   "id": "bda2b057",
   "metadata": {},
   "source": [
    "## Max Death on which Age_Group 2010"
   ]
  },
  {
   "cell_type": "code",
   "execution_count": null,
   "id": "ead8b3f0",
   "metadata": {},
   "outputs": [],
   "source": [
    "from pyspark.sql.functions import col,when\n",
    "ben_10 = ben_10.withColumn(\"Age_Group\", when(ben_10.Age_Group == 0.0, \"25-30\").when(ben_10.Age_Group == 1.0, \"31-40\").when(ben_10.Age_Group == 2.0, \"41-50\").when(ben_10.Age_Group == 3.0, \"51-60\").when(ben_10.Age_Group == 4.0, \"61-70\").when(ben_10.Age_Group == 5.0, \"71-80\").when(ben_10.Age_Group == 6.0, \"81-90\").otherwise(\"91-100\"))"
   ]
  },
  {
   "cell_type": "code",
   "execution_count": null,
   "id": "8995dacf",
   "metadata": {},
   "outputs": [],
   "source": [
    "ben_10.createOrReplaceTempView(\"ben_10\")"
   ]
  },
  {
   "cell_type": "code",
   "execution_count": null,
   "id": "c625b21f",
   "metadata": {},
   "outputs": [],
   "source": [
    "b_10 = spark.sql(\"select Age_Group,count(Date_of_death) as cnt from ben_10 where Date_of_death is not null group by Age_Group order by cnt desc\")\n",
    "b_10_pandas = b_10.toPandas()"
   ]
  },
  {
   "cell_type": "code",
   "execution_count": null,
   "id": "d75d1ecb",
   "metadata": {},
   "outputs": [],
   "source": [
    "spark.sql(\"select Age_Group,count(Date_of_death) as cnt from ben_10 where Date_of_death is not null group by Age_Group order by cnt desc\").show()"
   ]
  },
  {
   "cell_type": "code",
   "execution_count": null,
   "id": "4585944c",
   "metadata": {},
   "outputs": [],
   "source": [
    "#b_10_pandas = b_10_pandas.set_index('Age_Group')"
   ]
  },
  {
   "cell_type": "code",
   "execution_count": null,
   "id": "0cb05824",
   "metadata": {},
   "outputs": [],
   "source": [
    "b_10_pandas.to_csv('C:/Users/vishw/OneDrive/Desktop/Insurance/Streamlit/BENEF/B_8/b_8_Mortality_Rate_By_AgeGroup.csv',index=False)"
   ]
  },
  {
   "cell_type": "markdown",
   "id": "b6bbc768",
   "metadata": {},
   "source": [
    "## Max_death on which Age Group 2008"
   ]
  },
  {
   "cell_type": "code",
   "execution_count": null,
   "id": "f158a25e",
   "metadata": {},
   "outputs": [],
   "source": [
    "ben_10 = ben_10.withColumn(\"Age_Group\", when(ben_10.Age_Group == 0.0, \"25-30\").when(ben_10.Age_Group == 1.0, \"31-40\").when(ben_10.Age_Group == 2.0, \"41-50\").when(ben_10.Age_Group == 3.0, \"51-60\").when(ben_10.Age_Group == 4.0, \"61-70\").when(ben_10.Age_Group == 5.0, \"71-80\").when(ben_10.Age_Group == 6.0, \"81-90\").otherwise(\"91-100\"))\n",
    "df.createOrReplaceTempView(\"ben_10\")\n",
    "b_10 = spark.sql(\"select Age_Group,count(Date_of_death) as cnt from ben_10 where Date_of_death is not null group by Age_Group order by cnt desc\")\n",
    "b_10_pandas = b_10.toPandas()\n",
    "\n",
    "b_10_pandas = b_10_pandas.set_index('Age_Group')\n",
    "\n",
    "b_10_pandas.to_csv('C:/Users/vishw/OneDrive/Desktop/Insurance/Streamlit/BENEF/B_8/b_8_Mortality_Rate_By_AgeGroup.csv',index=False)"
   ]
  },
  {
   "cell_type": "code",
   "execution_count": null,
   "id": "e36b6e09",
   "metadata": {},
   "outputs": [],
   "source": []
  },
  {
   "cell_type": "markdown",
   "id": "3b39f30c",
   "metadata": {},
   "source": [
    "## Claim Days"
   ]
  },
  {
   "cell_type": "code",
   "execution_count": null,
   "id": "d82ee687",
   "metadata": {},
   "outputs": [],
   "source": [
    "from pyspark.sql.functions import datediff\n",
    "Inp = Inp.withColumn(\"Claim_days\", datediff(Inp.Claim_End_Date, Inp.Claim_Start_Date))"
   ]
  },
  {
   "cell_type": "code",
   "execution_count": null,
   "id": "758ebbd0",
   "metadata": {},
   "outputs": [],
   "source": [
    "Inp.createOrReplaceTempView(\"inp\")"
   ]
  },
  {
   "cell_type": "code",
   "execution_count": null,
   "id": "64b684ee",
   "metadata": {},
   "outputs": [],
   "source": [
    "spark.sql(\"select Claim_End_Date,Claim_Start_Date,Claim_days from inp\").show()"
   ]
  },
  {
   "cell_type": "markdown",
   "id": "9b82cdb8",
   "metadata": {},
   "source": [
    "## Which diease has maximum claim days"
   ]
  },
  {
   "cell_type": "code",
   "execution_count": null,
   "id": "cdeb9753",
   "metadata": {},
   "outputs": [],
   "source": [
    "spark.sql('select Claim_Admitting_Diagnosis_Code,Claim_days from inp\\\n",
    "where Claim_days in (select max(Claim_days) from inp)').show()"
   ]
  },
  {
   "cell_type": "code",
   "execution_count": null,
   "id": "1bf5c9fd",
   "metadata": {},
   "outputs": [],
   "source": [
    "spark.sql('select min(Claim_days) AS MAX,Claim_Admitting_Diagnosis_Code from inp GROUP BY Claim_Admitting_Diagnosis_Code ORDER BY MAX').show()"
   ]
  },
  {
   "cell_type": "code",
   "execution_count": null,
   "id": "4b8ad657",
   "metadata": {},
   "outputs": [],
   "source": [
    "spark.sql('select COUNT(Claim_Admitting_Diagnosis_Code) from inp where Claim_days = 35').show()"
   ]
  },
  {
   "cell_type": "code",
   "execution_count": null,
   "id": "1aa08734",
   "metadata": {},
   "outputs": [],
   "source": [
    "spark.sql('select COUNT(Claim_Admitting_Diagnosis_Code) from inp where Claim_days = 0').show()"
   ]
  },
  {
   "cell_type": "markdown",
   "id": "694a771d",
   "metadata": {},
   "source": [
    "## Average Stay at Hospital ()"
   ]
  },
  {
   "cell_type": "code",
   "execution_count": null,
   "id": "9add1532",
   "metadata": {},
   "outputs": [],
   "source": [
    "spark.sql('select avg(Claim_Utilization_Day_Count) as avg_hsp_stay from inp').show()"
   ]
  },
  {
   "cell_type": "code",
   "execution_count": null,
   "id": "2fb64e16",
   "metadata": {},
   "outputs": [],
   "source": [
    "spark.stop()"
   ]
  },
  {
   "cell_type": "code",
   "execution_count": null,
   "id": "735ca2c5",
   "metadata": {},
   "outputs": [],
   "source": [
    "Total_Number_of_diseases_having_max_claim_days"
   ]
  },
  {
   "cell_type": "code",
   "execution_count": null,
   "id": "aac882cf",
   "metadata": {},
   "outputs": [],
   "source": []
  }
 ],
 "metadata": {
  "kernelspec": {
   "display_name": "Python 3 (ipykernel)",
   "language": "python",
   "name": "python3"
  },
  "language_info": {
   "codemirror_mode": {
    "name": "ipython",
    "version": 3
   },
   "file_extension": ".py",
   "mimetype": "text/x-python",
   "name": "python",
   "nbconvert_exporter": "python",
   "pygments_lexer": "ipython3",
   "version": "3.9.7"
  }
 },
 "nbformat": 4,
 "nbformat_minor": 5
}
