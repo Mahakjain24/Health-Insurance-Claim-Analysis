{
 "cells": [
  {
   "cell_type": "code",
   "execution_count": 24,
   "id": "87cf56e2",
   "metadata": {},
   "outputs": [],
   "source": [
    "import findspark\n",
    "findspark.init('E:\\spark\\spark-3.3.1-bin-hadoop2/')\n",
    "import pyspark\n",
    "import seaborn as sns\n",
    "import pandas as pd"
   ]
  },
  {
   "cell_type": "code",
   "execution_count": 25,
   "id": "52218b3c",
   "metadata": {},
   "outputs": [],
   "source": [
    "from pyspark.sql import SparkSession\n",
    "from pyspark import SparkContext"
   ]
  },
  {
   "cell_type": "code",
   "execution_count": 26,
   "id": "ab292d1a",
   "metadata": {},
   "outputs": [],
   "source": [
    "mongo_ip = 'mongodb://localhost:27017/Cleaned_Insurance'"
   ]
  },
  {
   "cell_type": "code",
   "execution_count": 27,
   "id": "3392c06a",
   "metadata": {},
   "outputs": [],
   "source": [
    "spark = SparkSession \\\n",
    ".builder\\\n",
    ".appName(\"myApp\")\\\n",
    ".config(\"spark.jars.packages\", \"org.mongodb.spark:mongo-spark-connector_2.12:3.0.1\")\\\n",
    ".getOrCreate()"
   ]
  },
  {
   "cell_type": "code",
   "execution_count": 28,
   "id": "3fad27b0",
   "metadata": {},
   "outputs": [],
   "source": [
    "b_08 = spark.read.format(\"com.mongodb.spark.sql.DefaultSource\").option(\"uri\",mongo_ip + \".ben_2008\").load()"
   ]
  },
  {
   "cell_type": "code",
   "execution_count": 29,
   "id": "f93e1492",
   "metadata": {},
   "outputs": [],
   "source": [
    "b_08.createOrReplaceTempView('b_08')"
   ]
  },
  {
   "cell_type": "code",
   "execution_count": 30,
   "id": "e100fff8",
   "metadata": {},
   "outputs": [],
   "source": [
    "b_09 = spark.read.format(\"com.mongodb.spark.sql.DefaultSource\").option(\"uri\",mongo_ip + \".ben_2009\").load()"
   ]
  },
  {
   "cell_type": "code",
   "execution_count": 31,
   "id": "fb998a12",
   "metadata": {},
   "outputs": [],
   "source": [
    "b_09.createOrReplaceTempView('b_09')"
   ]
  },
  {
   "cell_type": "code",
   "execution_count": 32,
   "id": "a10a489a",
   "metadata": {},
   "outputs": [],
   "source": [
    "b_10 = spark.read.format(\"com.mongodb.spark.sql.DefaultSource\").option(\"uri\",mongo_ip + \".ben_2010\").load()"
   ]
  },
  {
   "cell_type": "code",
   "execution_count": 33,
   "id": "e13f7022",
   "metadata": {},
   "outputs": [],
   "source": [
    "b_10.createOrReplaceTempView('b_10')"
   ]
  },
  {
   "cell_type": "code",
   "execution_count": 34,
   "id": "d2eb096a",
   "metadata": {},
   "outputs": [],
   "source": [
    "from pyspark.ml.feature import Bucketizer\n",
    "\n",
    "boundaries = [25,30,45,60,75,90,105]\n",
    "category = ['25-30','31-45','46-60','61-75','76-90','91-105']\n",
    "\n",
    "# Create the bucketizer instance\n",
    "bucketizer = Bucketizer(splits=boundaries, inputCol=\"Age\", outputCol=\"Age_Group\")\n",
    "\n",
    "# Apply the bucketizer to the DataFrame\n",
    "b_8 = bucketizer.transform(b_08)"
   ]
  },
  {
   "cell_type": "code",
   "execution_count": 35,
   "id": "54623225",
   "metadata": {},
   "outputs": [],
   "source": [
    "b_8.createOrReplaceTempView('b_8')"
   ]
  },
  {
   "cell_type": "code",
   "execution_count": 36,
   "id": "a998e4df",
   "metadata": {},
   "outputs": [],
   "source": [
    "from pyspark.sql.functions import regexp_replace\n",
    "b_8 = b_8.withColumn('Age_Group', regexp_replace('Age_Group', '0.0', '25-30'))\\\n",
    ".withColumn('Age_Group', regexp_replace('Age_Group', '1.0', '31-45'))\\\n",
    ".withColumn('Age_Group', regexp_replace('Age_Group', '2.0', '46-60'))\\\n",
    ".withColumn('Age_Group', regexp_replace('Age_Group', '3.0', '61-75'))\\\n",
    ".withColumn('Age_Group', regexp_replace('Age_Group', '4.0', '76-90'))\\\n",
    ".withColumn('Age_Group', regexp_replace('Age_Group', '5.0', '91-105'))"
   ]
  },
  {
   "cell_type": "code",
   "execution_count": 37,
   "id": "feac1b90",
   "metadata": {},
   "outputs": [],
   "source": [
    "b_8.createOrReplaceTempView('b_8')"
   ]
  },
  {
   "cell_type": "code",
   "execution_count": 38,
   "id": "8a2a1ef0",
   "metadata": {},
   "outputs": [
    {
     "name": "stdout",
     "output_type": "stream",
     "text": [
      "+---------+\n",
      "|Age_Group|\n",
      "+---------+\n",
      "|    31-45|\n",
      "|    25-30|\n",
      "|    46-60|\n",
      "|    76-90|\n",
      "|   91-105|\n",
      "|    61-75|\n",
      "+---------+\n",
      "\n"
     ]
    }
   ],
   "source": [
    "spark.sql(\"select distinct Age_Group from b_8\").show()"
   ]
  },
  {
   "cell_type": "code",
   "execution_count": 39,
   "id": "ba1fc63c",
   "metadata": {},
   "outputs": [],
   "source": [
    "from pyspark.ml.feature import Bucketizer\n",
    "\n",
    "boundaries = [25,30,45,60,75,90,105]\n",
    "category = ['25-30','31-45','46-60','61-75','76-90','91-105']\n",
    "\n",
    "# Create the bucketizer instance\n",
    "bucketizer = Bucketizer(splits=boundaries, inputCol=\"Age\", outputCol=\"Age_Group\")\n",
    "\n",
    "# Apply the bucketizer to the DataFrame\n",
    "b_9 = bucketizer.transform(b_09)"
   ]
  },
  {
   "cell_type": "code",
   "execution_count": 40,
   "id": "12160680",
   "metadata": {},
   "outputs": [],
   "source": [
    "b_9.createOrReplaceTempView('b_9')"
   ]
  },
  {
   "cell_type": "code",
   "execution_count": 41,
   "id": "07f892cb",
   "metadata": {},
   "outputs": [],
   "source": [
    "from pyspark.sql.functions import regexp_replace\n",
    "b_9 = b_9.withColumn('Age_Group', regexp_replace('Age_Group', '0.0', '25-30'))\\\n",
    ".withColumn('Age_Group', regexp_replace('Age_Group', '1.0', '31-45'))\\\n",
    ".withColumn('Age_Group', regexp_replace('Age_Group', '2.0', '46-60'))\\\n",
    ".withColumn('Age_Group', regexp_replace('Age_Group', '3.0', '61-75'))\\\n",
    ".withColumn('Age_Group', regexp_replace('Age_Group', '4.0', '76-90'))\\\n",
    ".withColumn('Age_Group', regexp_replace('Age_Group', '5.0', '91-105'))"
   ]
  },
  {
   "cell_type": "code",
   "execution_count": 42,
   "id": "1e5e3aac",
   "metadata": {},
   "outputs": [],
   "source": [
    "b_9.createOrReplaceTempView('b_9')"
   ]
  },
  {
   "cell_type": "code",
   "execution_count": 43,
   "id": "4bdd9d0c",
   "metadata": {},
   "outputs": [],
   "source": [
    "from pyspark.ml.feature import Bucketizer\n",
    "\n",
    "boundaries = [25,30,45,60,75,90,105]\n",
    "\n",
    "# Create the bucketizer instance\n",
    "bucketizer = Bucketizer(splits=boundaries, inputCol=\"Age\", outputCol=\"Age_Group\")\n",
    "\n",
    "# Apply the bucketizer to the DataFrame\n",
    "b_10 = bucketizer.transform(b_10)"
   ]
  },
  {
   "cell_type": "code",
   "execution_count": 44,
   "id": "fe6fc339",
   "metadata": {},
   "outputs": [],
   "source": [
    "b_10.createOrReplaceTempView('b_10')"
   ]
  },
  {
   "cell_type": "code",
   "execution_count": 45,
   "id": "1b9a58d7",
   "metadata": {},
   "outputs": [],
   "source": [
    "from pyspark.sql.functions import regexp_replace\n",
    "b_10 = b_10.withColumn('Age_Group', regexp_replace('Age_Group', '0.0', '25-30'))\\\n",
    ".withColumn('Age_Group', regexp_replace('Age_Group', '1.0', '31-45'))\\\n",
    ".withColumn('Age_Group', regexp_replace('Age_Group', '2.0', '46-60'))\\\n",
    ".withColumn('Age_Group', regexp_replace('Age_Group', '3.0', '61-75'))\\\n",
    ".withColumn('Age_Group', regexp_replace('Age_Group', '4.0', '76-90'))\\\n",
    ".withColumn('Age_Group', regexp_replace('Age_Group', '5.0', '91-105'))"
   ]
  },
  {
   "cell_type": "code",
   "execution_count": 46,
   "id": "179e4e01",
   "metadata": {},
   "outputs": [],
   "source": [
    "b_10.createOrReplaceTempView('b_10')"
   ]
  },
  {
   "cell_type": "code",
   "execution_count": 47,
   "id": "1f57f15e",
   "metadata": {},
   "outputs": [
    {
     "data": {
      "text/plain": [
       "['Age',\n",
       " 'Alzheimer',\n",
       " 'Cancer',\n",
       " 'Chronic_Kidney_Disease',\n",
       " 'Chronic_Obstructive_Pulmonary_Disease',\n",
       " 'DESYNPUF_ID',\n",
       " 'Date_of_birth',\n",
       " 'Date_of_death',\n",
       " 'Depression',\n",
       " 'Diabetes',\n",
       " 'End_stage_renal_disease_Indicator',\n",
       " 'Gender',\n",
       " 'Heart_Failure',\n",
       " 'Inpatient_primary_payer_reimbursement_amount',\n",
       " 'Inpatient_reimbursement_amount',\n",
       " 'Inpatient_responsibility_amount',\n",
       " 'Ischemic_Heart_Disease',\n",
       " 'Osteoporosis',\n",
       " 'Outpatient_primary_payer_reimbursement_amount',\n",
       " 'Outpatient_reimbursement_amount',\n",
       " 'Outpatient_responsibility_amount',\n",
       " 'Race_Code',\n",
       " 'Rheumatoid_arthritis_osteoarthritis',\n",
       " 'State_Code',\n",
       " 'Stroke_transient_Ischemic_Attack',\n",
       " 'Total_months_HMO_coverage',\n",
       " 'Total_months_partA_coverage',\n",
       " 'Total_months_partB_coverage',\n",
       " 'Total_months_partD_coverage',\n",
       " '_id',\n",
       " 'total_number_of_Insurance',\n",
       " 'total_number_of_diseases',\n",
       " 'year',\n",
       " 'Age_Group']"
      ]
     },
     "execution_count": 47,
     "metadata": {},
     "output_type": "execute_result"
    }
   ],
   "source": [
    "b_10.columns"
   ]
  },
  {
   "cell_type": "code",
   "execution_count": 48,
   "id": "849f2854",
   "metadata": {},
   "outputs": [],
   "source": [
    "b_query = spark.sql(\"select Age_group,count(Date_of_death) as Total_Deaths from b_10 group by Age_group\")"
   ]
  },
  {
   "cell_type": "code",
   "execution_count": 49,
   "id": "56db1538",
   "metadata": {},
   "outputs": [],
   "source": [
    "import seaborn as sns\n",
    "import matplotlib.pyplot as plt"
   ]
  },
  {
   "cell_type": "code",
   "execution_count": 177,
   "id": "9834b169",
   "metadata": {},
   "outputs": [],
   "source": [
    "b_10_pandas = b_query.toPandas()"
   ]
  },
  {
   "cell_type": "code",
   "execution_count": 178,
   "id": "6b1989b5",
   "metadata": {},
   "outputs": [],
   "source": [
    "b_10_pandas = b_10_pandas.set_index('Age_group')"
   ]
  },
  {
   "cell_type": "code",
   "execution_count": 179,
   "id": "7117e904",
   "metadata": {},
   "outputs": [
    {
     "data": {
      "image/png": "[encoded data removed]",
      "text/plain": [
       "<Figure size 2160x720 with 1 Axes>"
      ]
     },
     "metadata": {},
     "output_type": "display_data"
    }
   ],
   "source": [
    "plot_10 = b_10_pandas.plot.pie(y='Total_Deaths', figsize=(30, 10))"
   ]
  },
  {
   "cell_type": "code",
   "execution_count": 180,
   "id": "398c9e44",
   "metadata": {},
   "outputs": [],
   "source": [
    "b_query_8 = spark.sql(\"select Age_group,count(Date_of_death) as Total_Deaths from b_8 group by Age_group\")"
   ]
  },
  {
   "cell_type": "code",
   "execution_count": 181,
   "id": "b9b56f5b",
   "metadata": {},
   "outputs": [],
   "source": [
    "b_8_pandas = b_query_8.toPandas()"
   ]
  },
  {
   "cell_type": "code",
   "execution_count": 182,
   "id": "1872e720",
   "metadata": {},
   "outputs": [],
   "source": [
    "b_8_pandas = b_8_pandas.set_index('Age_group')"
   ]
  },
  {
   "cell_type": "code",
   "execution_count": 183,
   "id": "e13f214b",
   "metadata": {},
   "outputs": [
    {
     "data": {
      "image/png": "[encoded data removed]",
      "text/plain": [
       "<Figure size 2160x720 with 1 Axes>"
      ]
     },
     "metadata": {},
     "output_type": "display_data"
    }
   ],
   "source": [
    "plot_8 = b_8_pandas.plot.pie(y='Total_Deaths', figsize=(30, 10))"
   ]
  },
  {
   "cell_type": "code",
   "execution_count": 50,
   "id": "64df6c0a",
   "metadata": {},
   "outputs": [],
   "source": [
    "code = spark.read.format(\"com.mongodb.spark.sql.DefaultSource\").option(\"uri\",mongo_ip + \".code\").load()"
   ]
  },
  {
   "cell_type": "code",
   "execution_count": 51,
   "id": "c73edfd9",
   "metadata": {},
   "outputs": [],
   "source": [
    "inp = spark.read.format(\"com.mongodb.spark.sql.DefaultSource\").option(\"uri\",mongo_ip + \".Inpatient\").load()"
   ]
  },
  {
   "cell_type": "code",
   "execution_count": 52,
   "id": "8dbe8b3c",
   "metadata": {},
   "outputs": [],
   "source": [
    "inp.createOrReplaceTempView('inp')"
   ]
  },
  {
   "cell_type": "code",
   "execution_count": 53,
   "id": "6e2d4308",
   "metadata": {},
   "outputs": [
    {
     "data": {
      "text/plain": [
       "['Beneficiary_Blood_Deductible_Liability_Amount',\n",
       " 'Beneficiary_Inpatient_Deductible_Amount',\n",
       " 'Beneficiary_PartA_Coinsurance_Liability_Amount',\n",
       " 'Claim_Admission_Date',\n",
       " 'Claim_Admitting_Diagnosis_Code',\n",
       " 'Claim_End_Date',\n",
       " 'Claim_ID',\n",
       " 'Claim_Pass_Thru_Per_Diem_Amount',\n",
       " 'Claim_Payment_Amount',\n",
       " 'Claim_Start_Date',\n",
       " 'Claim_Utilization_Day_Count',\n",
       " 'DESYNPUF_ID',\n",
       " 'Inpatient_discharged_date',\n",
       " 'Primary_Payer_Claim_Paid_Amount',\n",
       " 'Provider_Number',\n",
       " '_id']"
      ]
     },
     "execution_count": 53,
     "metadata": {},
     "output_type": "execute_result"
    }
   ],
   "source": [
    "inp.columns"
   ]
  },
  {
   "cell_type": "code",
   "execution_count": 54,
   "id": "62ea067c",
   "metadata": {},
   "outputs": [
    {
     "name": "stdout",
     "output_type": "stream",
     "text": [
      "+-------------------+\n",
      "|     Claim_End_Date|\n",
      "+-------------------+\n",
      "|2009-12-17 00:00:00|\n",
      "|2009-05-15 00:00:00|\n",
      "|2008-11-18 00:00:00|\n",
      "|2008-07-25 00:00:00|\n",
      "|2009-02-14 00:00:00|\n",
      "|2009-04-27 00:00:00|\n",
      "|2009-06-17 00:00:00|\n",
      "|2008-05-21 00:00:00|\n",
      "|2009-05-15 00:00:00|\n",
      "|2008-05-22 00:00:00|\n",
      "|2008-06-13 00:00:00|\n",
      "|2008-04-25 00:00:00|\n",
      "|2008-05-20 00:00:00|\n",
      "|2008-02-04 00:00:00|\n",
      "|2008-07-01 00:00:00|\n",
      "|2008-09-24 00:00:00|\n",
      "|2009-02-10 00:00:00|\n",
      "|2009-03-10 00:00:00|\n",
      "|2009-06-11 00:00:00|\n",
      "|2009-11-03 00:00:00|\n",
      "+-------------------+\n",
      "only showing top 20 rows\n",
      "\n"
     ]
    }
   ],
   "source": [
    "spark.sql(\"select Claim_End_Date from inp\").show()"
   ]
  },
  {
   "cell_type": "code",
   "execution_count": 189,
   "id": "24f1ad6a",
   "metadata": {},
   "outputs": [],
   "source": [
    "inp_pandas = inp.toPandas()"
   ]
  },
  {
   "cell_type": "code",
   "execution_count": 55,
   "id": "7cbca722",
   "metadata": {},
   "outputs": [],
   "source": [
    "final = (b_8.join(inp,\n",
    "                               on = b_8['DESYNPUF_ID'] == inp['DESYNPUF_ID'],\n",
    "                               how = 'inner')\n",
    "                         .select(b_8['*'],\n",
    "                                 inp['Claim_Admitting_Diagnosis_Code']))"
   ]
  },
  {
   "cell_type": "code",
   "execution_count": 56,
   "id": "cc0589af",
   "metadata": {},
   "outputs": [],
   "source": [
    "final.createOrReplaceTempView('final')"
   ]
  },
  {
   "cell_type": "code",
   "execution_count": 57,
   "id": "7da2933a",
   "metadata": {},
   "outputs": [
    {
     "data": {
      "text/plain": [
       "['Age',\n",
       " 'Alzheimer',\n",
       " 'Cancer',\n",
       " 'Chronic_Kidney_Disease',\n",
       " 'Chronic_Obstructive_Pulmonary_Disease',\n",
       " 'DESYNPUF_ID',\n",
       " 'Date_of_birth',\n",
       " 'Date_of_death',\n",
       " 'Depression',\n",
       " 'Diabetes',\n",
       " 'End_stage_renal_disease_Indicator',\n",
       " 'Gender',\n",
       " 'Heart_Failure',\n",
       " 'Inpatient_primary_payer_reimbursement_amount',\n",
       " 'Inpatient_reimbursement_amount',\n",
       " 'Inpatient_responsibility_amount',\n",
       " 'Ischemic_Heart_Disease',\n",
       " 'Osteoporosis',\n",
       " 'Outpatient_primary_payer_reimbursement_amount',\n",
       " 'Outpatient_reimbursement_amount',\n",
       " 'Outpatient_responsibility_amount',\n",
       " 'Race_Code',\n",
       " 'Rheumatoid_arthritis_osteoarthritis',\n",
       " 'State_Code',\n",
       " 'Stroke_transient_Ischemic_Attack',\n",
       " 'Total_months_HMO_coverage',\n",
       " 'Total_months_partA_coverage',\n",
       " 'Total_months_partB_coverage',\n",
       " 'Total_months_partD_coverage',\n",
       " '_id',\n",
       " 'total_number_of_Insurance',\n",
       " 'total_number_of_diseases',\n",
       " 'year',\n",
       " 'Age_Group',\n",
       " 'Claim_Admitting_Diagnosis_Code']"
      ]
     },
     "execution_count": 57,
     "metadata": {},
     "output_type": "execute_result"
    }
   ],
   "source": [
    "final.columns"
   ]
  },
  {
   "cell_type": "code",
   "execution_count": 193,
   "id": "24786fbf",
   "metadata": {},
   "outputs": [
    {
     "name": "stdout",
     "output_type": "stream",
     "text": [
      "+---------+------------------------------+\n",
      "|Age_group|Claim_Admitting_Diagnosis_Code|\n",
      "+---------+------------------------------+\n",
      "|    76-90|                          5990|\n",
      "|    76-90|                         42731|\n",
      "|    76-90|                          4271|\n",
      "|    76-90|                         78060|\n",
      "|    76-90|                         71595|\n",
      "|    76-90|                         71536|\n",
      "|    76-90|                         71590|\n",
      "|    76-90|                          5780|\n",
      "|    76-90|                          0389|\n",
      "|    46-60|                         29620|\n",
      "|    46-60|                         78009|\n",
      "|    76-90|                          4280|\n",
      "|    76-90|                         78605|\n",
      "|    61-75|                         78650|\n",
      "|    61-75|                          7806|\n",
      "|    61-75|                         30391|\n",
      "|   91-105|                          5990|\n",
      "|    61-75|                         78900|\n",
      "|    61-75|                         64513|\n",
      "|    61-75|                         78097|\n",
      "+---------+------------------------------+\n",
      "only showing top 20 rows\n",
      "\n"
     ]
    }
   ],
   "source": [
    "spark.sql(\"select Age_group, Claim_Admitting_Diagnosis_Code from final\").show()"
   ]
  },
  {
   "cell_type": "code",
   "execution_count": 58,
   "id": "fba33fd0",
   "metadata": {
    "scrolled": true
   },
   "outputs": [
    {
     "name": "stdout",
     "output_type": "stream",
     "text": [
      "+---------+-----------------------------------+\n",
      "|Age_group|max(Claim_Admitting_Diagnosis_Code)|\n",
      "+---------+-----------------------------------+\n",
      "|    25-30|                              V6284|\n",
      "|    31-45|                               V719|\n",
      "|    46-60|                               V719|\n",
      "|    61-75|                              V7284|\n",
      "|    76-90|                               V790|\n",
      "|   91-105|                              V7284|\n",
      "+---------+-----------------------------------+\n",
      "\n"
     ]
    }
   ],
   "source": [
    "spark.sql(\"select Age_group,max(Claim_Admitting_Diagnosis_Code) from final group by Age_group\").show()"
   ]
  },
  {
   "cell_type": "code",
   "execution_count": null,
   "id": "59ca2b4d",
   "metadata": {},
   "outputs": [],
   "source": [
    "select Age_group,max(Claim_Admitting_Diagnosis_Code) from final group by Age_group"
   ]
  },
  {
   "cell_type": "code",
   "execution_count": 72,
   "id": "ad4c383e",
   "metadata": {},
   "outputs": [
    {
     "name": "stdout",
     "output_type": "stream",
     "text": [
      "+---------+------------------------------+-------------+\n",
      "|Age_group|Claim_Admitting_Diagnosis_Code|Disease_count|\n",
      "+---------+------------------------------+-------------+\n",
      "|   91-105|                          5990|          254|\n",
      "|    76-90|                         42789|          387|\n",
      "|    61-75|                         41041|           59|\n",
      "|    46-60|                          2948|           32|\n",
      "|    31-45|                         78900|          126|\n",
      "|    25-30|                          5789|           17|\n",
      "+---------+------------------------------+-------------+\n",
      "\n"
     ]
    }
   ],
   "source": [
    "spark.sql('select Age_group,Claim_Admitting_Diagnosis_Code,Disease_count from\\\n",
    "(select Age_group,Claim_Admitting_Diagnosis_Code,count(*) as Disease_count,row_number() over \\\n",
    "(partition by Age_group order by Age_group) as Highest from final group by Age_group,Claim_Admitting_Diagnosis_Code \\\n",
    "order by Age_group desc) where Highest=1').show()"
   ]
  },
  {
   "cell_type": "code",
   "execution_count": 73,
   "id": "060b5758",
   "metadata": {},
   "outputs": [
    {
     "name": "stdout",
     "output_type": "stream",
     "text": [
      "+---------+------------------------------+--------+-------+\n",
      "|Age_group|Claim_Admitting_Diagnosis_Code|count(1)|Highest|\n",
      "+---------+------------------------------+--------+-------+\n",
      "|   91-105|                          5990|     254|      1|\n",
      "|    31-45|                         29590|      16|      1|\n",
      "|    25-30|                         78097|      36|      1|\n",
      "|    61-75|                         45341|      95|      1|\n",
      "|    46-60|                          2768|      20|      1|\n",
      "|    76-90|                         29411|      11|      1|\n",
      "|   91-105|                         72672|       1|      2|\n",
      "|    25-30|                         70707|       1|      2|\n",
      "|    76-90|                          9663|       6|      2|\n",
      "|    46-60|                         27651|     170|      2|\n",
      "|    61-75|                         78650|    3067|      2|\n",
      "|    31-45|                         78900|     126|      2|\n",
      "|    46-60|                         29530|      44|      3|\n",
      "|    61-75|                          4111|     569|      3|\n",
      "|    31-45|                         45119|       1|      3|\n",
      "|    76-90|                          5781|     304|      3|\n",
      "|    25-30|                         78079|      29|      3|\n",
      "|   91-105|                         70705|       4|      3|\n",
      "|    46-60|                         95911|       1|      4|\n",
      "|    76-90|                          4271|     109|      4|\n",
      "+---------+------------------------------+--------+-------+\n",
      "only showing top 20 rows\n",
      "\n"
     ]
    }
   ],
   "source": [
    "spark.sql('select Age_group,Claim_Admitting_Diagnosis_Code,count(*),row_number() over (partition by Age_group order by Age_group) as Highest from final group by Age_group,Claim_Admitting_Diagnosis_Code order by Highest').show()"
   ]
  },
  {
   "cell_type": "code",
   "execution_count": 90,
   "id": "4cdcc26c",
   "metadata": {},
   "outputs": [
    {
     "name": "stdout",
     "output_type": "stream",
     "text": [
      "+------------------------------+-----+\n",
      "|Claim_Admitting_Diagnosis_Code|count|\n",
      "+------------------------------+-----+\n",
      "|                         78605| 8231|\n",
      "+------------------------------+-----+\n",
      "\n"
     ]
    }
   ],
   "source": [
    "spark.sql('select Claim_Admitting_Diagnosis_Code,count(*) as count from final group by Claim_Admitting_Diagnosis_Code order by count desc limit 1 ').show()"
   ]
  },
  {
   "cell_type": "markdown",
   "id": "5e3c5b74",
   "metadata": {},
   "source": [
    "## No. of Beneficiaries Male and Female"
   ]
  },
  {
   "cell_type": "code",
   "execution_count": 11,
   "id": "700afcf1",
   "metadata": {},
   "outputs": [],
   "source": [
    "from pyspark.sql.functions import when\n",
    "b_08 = b_08.withColumn(\"Gender\", when(b_08[\"Gender\"] == 1 , 'M').otherwise('F'))"
   ]
  },
  {
   "cell_type": "code",
   "execution_count": 12,
   "id": "185fc916",
   "metadata": {},
   "outputs": [],
   "source": [
    "b_08.createOrReplaceTempView('b_08')"
   ]
  },
  {
   "cell_type": "code",
   "execution_count": 14,
   "id": "7fee1fea",
   "metadata": {},
   "outputs": [],
   "source": [
    "MR = spark.sql(\"select Gender,count(*) as No_of_Beneficiary from b_08 group by Gender\")"
   ]
  },
  {
   "cell_type": "code",
   "execution_count": 16,
   "id": "81a87276",
   "metadata": {},
   "outputs": [],
   "source": [
    "MRP = MR.toPandas()"
   ]
  },
  {
   "cell_type": "code",
   "execution_count": 17,
   "id": "70372e17",
   "metadata": {},
   "outputs": [],
   "source": [
    "MRP.to_csv('C:/Users/ASUS/Desktop/Insurance/Queries/Benef/M_F_ratio_08.csv',  index=False)"
   ]
  },
  {
   "cell_type": "code",
   "execution_count": 19,
   "id": "77449d8f",
   "metadata": {},
   "outputs": [],
   "source": [
    "from pyspark.sql.functions import when\n",
    "b_09 = b_09.withColumn(\"Gender\", when(b_09[\"Gender\"] == 1 , 'M').otherwise('F'))\n",
    "\n",
    "b_09.createOrReplaceTempView('b_09')\n",
    "\n",
    "MR = spark.sql(\"select Gender,count(*) as No_of_Beneficiary from b_09 group by Gender\")\n",
    "\n",
    "MRP = MR.toPandas()\n",
    "\n",
    "MRP.to_csv('C:/Users/ASUS/Desktop/Insurance/Queries/Benef/M_F_ratio_09.csv',  index=False)"
   ]
  },
  {
   "cell_type": "code",
   "execution_count": 20,
   "id": "3f4f90a1",
   "metadata": {},
   "outputs": [],
   "source": [
    "from pyspark.sql.functions import when\n",
    "b_10 = b_10.withColumn(\"Gender\", when(b_10[\"Gender\"] == 1 , 'M').otherwise('F'))\n",
    "\n",
    "b_10.createOrReplaceTempView('b_10')\n",
    "\n",
    "MR = spark.sql(\"select Gender,count(*) as No_of_Beneficiary from b_10 group by Gender\")\n",
    "\n",
    "MRP = MR.toPandas()\n",
    "\n",
    "MRP.to_csv('C:/Users/ASUS/Desktop/Insurance/Queries/Benef/M_F_ratio_10.csv',  index=False)"
   ]
  }
 ],
 "metadata": {
  "kernelspec": {
   "display_name": "Python 3 (ipykernel)",
   "language": "python",
   "name": "python3"
  },
  "language_info": {
   "codemirror_mode": {
    "name": "ipython",
    "version": 3
   },
   "file_extension": ".py",
   "mimetype": "text/x-python",
   "name": "python",
   "nbconvert_exporter": "python",
   "pygments_lexer": "ipython3",
   "version": "3.9.13"
  }
 },
 "nbformat": 4,
 "nbformat_minor": 5
}
