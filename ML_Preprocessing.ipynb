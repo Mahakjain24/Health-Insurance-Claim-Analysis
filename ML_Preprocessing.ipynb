{
 "cells": [
  {
   "cell_type": "code",
   "execution_count": 1,
   "id": "26b41b36",
   "metadata": {},
   "outputs": [],
   "source": [
    "import findspark\n",
    "findspark.init('D:\\spark\\spark-3.3.2-bin-hadoop2/')\n",
    "import pyspark"
   ]
  },
  {
   "cell_type": "code",
   "execution_count": 2,
   "id": "71917089",
   "metadata": {},
   "outputs": [],
   "source": [
    "from pyspark.sql import SparkSession\n",
    "from pyspark import SparkContext"
   ]
  },
  {
   "cell_type": "code",
   "execution_count": 3,
   "id": "4b7ebda0",
   "metadata": {},
   "outputs": [],
   "source": [
    "mongo_ip = 'mongodb://localhost:27017/Cleaned_Insurance'"
   ]
  },
  {
   "cell_type": "code",
   "execution_count": 4,
   "id": "08975085",
   "metadata": {},
   "outputs": [],
   "source": [
    "spark = SparkSession \\\n",
    ".builder\\\n",
    ".appName(\"myApp1\")\\\n",
    ".config(\"spark.jars.packages\", \"org.mongodb.spark:mongo-spark-connector_2.12:3.0.1\")\\\n",
    ".getOrCreate()"
   ]
  },
  {
   "cell_type": "code",
   "execution_count": 5,
   "id": "4f0912ae",
   "metadata": {},
   "outputs": [],
   "source": [
    "b_08 = spark.read.format(\"com.mongodb.spark.sql.DefaultSource\").option(\"uri\",mongo_ip + \".ben_2008\").load()"
   ]
  },
  {
   "cell_type": "code",
   "execution_count": 6,
   "id": "f62db034",
   "metadata": {},
   "outputs": [],
   "source": [
    "b_09 = spark.read.format(\"com.mongodb.spark.sql.DefaultSource\").option(\"uri\",mongo_ip + \".ben_2009\").load()"
   ]
  },
  {
   "cell_type": "code",
   "execution_count": 7,
   "id": "ec8c5afd",
   "metadata": {},
   "outputs": [],
   "source": [
    "b_10 = spark.read.format(\"com.mongodb.spark.sql.DefaultSource\").option(\"uri\",mongo_ip + \".ben_2010\").load()"
   ]
  },
  {
   "cell_type": "code",
   "execution_count": 8,
   "id": "c104896a",
   "metadata": {},
   "outputs": [],
   "source": [
    "Inp =  spark.read.format(\"com.mongodb.spark.sql.DefaultSource\").option(\"uri\",mongo_ip + \".Inpatient\").load()"
   ]
  },
  {
   "cell_type": "code",
   "execution_count": 9,
   "id": "26e03668",
   "metadata": {},
   "outputs": [],
   "source": [
    "b_08.createOrReplaceTempView('b_08')\n",
    "b_09.createOrReplaceTempView('b_09')\n",
    "b_10.createOrReplaceTempView('b_10')\n",
    "Inp.createOrReplaceTempView(\"Inp\")"
   ]
  },
  {
   "cell_type": "code",
   "execution_count": 10,
   "id": "fe152c95",
   "metadata": {},
   "outputs": [
    {
     "data": {
      "text/plain": [
       "['Age',\n",
       " 'Alzheimer',\n",
       " 'Cancer',\n",
       " 'Chronic_Kidney_Disease',\n",
       " 'Chronic_Obstructive_Pulmonary_Disease',\n",
       " 'DESYNPUF_ID',\n",
       " 'Date_of_birth',\n",
       " 'Date_of_death',\n",
       " 'Depression',\n",
       " 'Diabetes',\n",
       " 'End_stage_renal_disease_Indicator',\n",
       " 'Gender',\n",
       " 'Heart_Failure',\n",
       " 'Inpatient_primary_payer_reimbursement_amount',\n",
       " 'Inpatient_reimbursement_amount',\n",
       " 'Inpatient_responsibility_amount',\n",
       " 'Ischemic_Heart_Disease',\n",
       " 'Osteoporosis',\n",
       " 'Outpatient_primary_payer_reimbursement_amount',\n",
       " 'Outpatient_reimbursement_amount',\n",
       " 'Outpatient_responsibility_amount',\n",
       " 'Race_Code',\n",
       " 'Rheumatoid_arthritis_osteoarthritis',\n",
       " 'State_Code',\n",
       " 'Stroke_transient_Ischemic_Attack',\n",
       " 'Total_months_HMO_coverage',\n",
       " 'Total_months_partA_coverage',\n",
       " 'Total_months_partB_coverage',\n",
       " 'Total_months_partD_coverage',\n",
       " '_id',\n",
       " 'total_number_of_Insurance',\n",
       " 'total_number_of_diseases',\n",
       " 'year']"
      ]
     },
     "execution_count": 10,
     "metadata": {},
     "output_type": "execute_result"
    }
   ],
   "source": [
    "b_09.columns"
   ]
  },
  {
   "cell_type": "code",
   "execution_count": 11,
   "id": "971f2d54",
   "metadata": {},
   "outputs": [],
   "source": [
    "b_08 = spark.sql('select * from b_08 where Date_of_death is null')\n",
    "b_09 = spark.sql('select * from b_09 where Date_of_death is null')\n",
    "b_10 = spark.sql('select * from b_10 where Date_of_death is null')"
   ]
  },
  {
   "cell_type": "code",
   "execution_count": 12,
   "id": "9e465d8e",
   "metadata": {},
   "outputs": [],
   "source": [
    "col = ['Age',\n",
    " 'Alzheimer',\n",
    " 'Cancer',\n",
    " 'Chronic_Kidney_Disease',\n",
    " 'Chronic_Obstructive_Pulmonary_Disease',\n",
    " 'Depression',\n",
    " 'Diabetes',\n",
    " 'End_stage_renal_disease_Indicator',\n",
    " 'Gender',\n",
    " 'Heart_Failure',\n",
    " 'Inpatient_reimbursement_amount',\n",
    " 'Ischemic_Heart_Disease',\n",
    " 'Osteoporosis',\n",
    " 'Rheumatoid_arthritis_osteoarthritis',\n",
    " 'Stroke_transient_Ischemic_Attack',\n",
    " 'DESYNPUF_ID'\n",
    "      ]"
   ]
  },
  {
   "cell_type": "code",
   "execution_count": 13,
   "id": "4f5d4472",
   "metadata": {},
   "outputs": [],
   "source": [
    "b_08 = b_08.select(col)\n",
    "b_09 = b_09.select(col)\n",
    "b_10 = b_10.select(col)"
   ]
  },
  {
   "cell_type": "code",
   "execution_count": 14,
   "id": "1b9d470c",
   "metadata": {},
   "outputs": [],
   "source": [
    "from pyspark.sql.functions import col,when\n",
    "b_08 = b_08.withColumn(\"End_stage_renal_disease_Indicator\",when(col(\"End_stage_renal_disease_Indicator\") == 0 ,'F').otherwise('T'))\n",
    "b_09 = b_09.withColumn(\"End_stage_renal_disease_Indicator\",when(col(\"End_stage_renal_disease_Indicator\") == 0 ,'F').otherwise('T'))\n",
    "b_10 = b_10.withColumn(\"End_stage_renal_disease_Indicator\",when(col(\"End_stage_renal_disease_Indicator\") == 0 ,'F').otherwise('T'))"
   ]
  },
  {
   "cell_type": "code",
   "execution_count": 15,
   "id": "54817e93",
   "metadata": {},
   "outputs": [],
   "source": [
    "b_08 = b_08.withColumn(\"Inpatient_reimbursement_amount\",b_08[\"Inpatient_reimbursement_amount\"].cast('int'))\n",
    "b_09 = b_09.withColumn(\"Inpatient_reimbursement_amount\",b_09[\"Inpatient_reimbursement_amount\"].cast('int'))\n",
    "b_10 = b_10.withColumn(\"Inpatient_reimbursement_amount\",b_10[\"Inpatient_reimbursement_amount\"].cast('int'))"
   ]
  },
  {
   "cell_type": "code",
   "execution_count": 16,
   "id": "87befa89",
   "metadata": {},
   "outputs": [],
   "source": [
    "ch_col = ['Alzheimer',\n",
    " 'Cancer',\n",
    " 'Chronic_Kidney_Disease',\n",
    " 'Chronic_Obstructive_Pulmonary_Disease',\n",
    " 'Depression',\n",
    " 'Diabetes','Heart_Failure', 'Ischemic_Heart_Disease',\n",
    " 'Osteoporosis',\n",
    " 'Rheumatoid_arthritis_osteoarthritis',\n",
    " 'Stroke_transient_Ischemic_Attack']"
   ]
  },
  {
   "cell_type": "code",
   "execution_count": 17,
   "id": "8e6c105f",
   "metadata": {},
   "outputs": [],
   "source": [
    "for col_name in ch_col:\n",
    "    b_08 = b_08.withColumn(col_name,b_08[col_name].cast('string'))"
   ]
  },
  {
   "cell_type": "code",
   "execution_count": 18,
   "id": "57053ef3",
   "metadata": {},
   "outputs": [],
   "source": [
    "for col_name in ch_col:\n",
    "    b_09 = b_09.withColumn(col_name,b_09[col_name].cast('string'))"
   ]
  },
  {
   "cell_type": "code",
   "execution_count": 19,
   "id": "a0d7076b",
   "metadata": {},
   "outputs": [],
   "source": [
    "for col_name in ch_col:\n",
    "    b_10 = b_10.withColumn(col_name,b_10[col_name].cast('string'))"
   ]
  },
  {
   "cell_type": "code",
   "execution_count": 20,
   "id": "bfb1c48a",
   "metadata": {},
   "outputs": [],
   "source": [
    "for col_name in ch_col:\n",
    "    b_08 = b_08.withColumn(col_name,when(col(col_name) == False ,'F').otherwise('T'))"
   ]
  },
  {
   "cell_type": "code",
   "execution_count": 21,
   "id": "555c56e4",
   "metadata": {},
   "outputs": [],
   "source": [
    "for col_name in ch_col:\n",
    "    b_09 = b_09.withColumn(col_name,when(col(col_name) == False ,'F').otherwise('T'))"
   ]
  },
  {
   "cell_type": "code",
   "execution_count": 22,
   "id": "29d01b5d",
   "metadata": {},
   "outputs": [],
   "source": [
    "for col_name in ch_col:\n",
    "    b_10 = b_10.withColumn(col_name,when(col(col_name) == False ,'F').otherwise('T'))"
   ]
  },
  {
   "cell_type": "code",
   "execution_count": 23,
   "id": "d4a3b89d",
   "metadata": {},
   "outputs": [],
   "source": [
    "b_08 = b_08.withColumn(\"Inpatient_reimbursement_amount\",when(col(\"Inpatient_reimbursement_amount\") > 0 ,\"Reimbursed\").otherwise(\"Not Reimbursed\"))\n",
    "b_08 = b_08.withColumn(\"Gender\", when(b_08[\"Gender\"] == 1 , 'M').otherwise('F'))"
   ]
  },
  {
   "cell_type": "code",
   "execution_count": 24,
   "id": "295181b4",
   "metadata": {},
   "outputs": [],
   "source": [
    "b_09 = b_09.withColumn(\"Inpatient_reimbursement_amount\",when(col(\"Inpatient_reimbursement_amount\") > 0 ,\"Reimbursed\").otherwise(\"Not Reimbursed\"))\n",
    "b_09 = b_09.withColumn(\"Gender\", when(b_09[\"Gender\"] == 1 , 'M').otherwise('F'))"
   ]
  },
  {
   "cell_type": "code",
   "execution_count": 25,
   "id": "a6e2bc53",
   "metadata": {},
   "outputs": [],
   "source": [
    "b_10 = b_10.withColumn(\"Inpatient_reimbursement_amount\",when(col(\"Inpatient_reimbursement_amount\") > 0 ,\"Reimbursed\").otherwise(\"Not Reimbursed\"))\n",
    "b_10 = b_10.withColumn(\"Gender\", when(b_10[\"Gender\"] == 1 , 'M').otherwise('F'))"
   ]
  },
  {
   "cell_type": "code",
   "execution_count": 26,
   "id": "095b0ed6",
   "metadata": {},
   "outputs": [
    {
     "data": {
      "text/plain": [
       "[('Age', 'int'),\n",
       " ('Alzheimer', 'string'),\n",
       " ('Cancer', 'string'),\n",
       " ('Chronic_Kidney_Disease', 'string'),\n",
       " ('Chronic_Obstructive_Pulmonary_Disease', 'string'),\n",
       " ('Depression', 'string'),\n",
       " ('Diabetes', 'string'),\n",
       " ('End_stage_renal_disease_Indicator', 'string'),\n",
       " ('Gender', 'string'),\n",
       " ('Heart_Failure', 'string'),\n",
       " ('Inpatient_reimbursement_amount', 'string'),\n",
       " ('Ischemic_Heart_Disease', 'string'),\n",
       " ('Osteoporosis', 'string'),\n",
       " ('Rheumatoid_arthritis_osteoarthritis', 'string'),\n",
       " ('Stroke_transient_Ischemic_Attack', 'string'),\n",
       " ('DESYNPUF_ID', 'string')]"
      ]
     },
     "execution_count": 26,
     "metadata": {},
     "output_type": "execute_result"
    }
   ],
   "source": [
    "b_08.dtypes"
   ]
  },
  {
   "cell_type": "code",
   "execution_count": 27,
   "id": "78ced1a9",
   "metadata": {},
   "outputs": [],
   "source": [
    "ben = b_08.union(b_09).union(b_10)"
   ]
  },
  {
   "cell_type": "code",
   "execution_count": 28,
   "id": "a63acf15",
   "metadata": {
    "scrolled": true
   },
   "outputs": [
    {
     "data": {
      "text/plain": [
       "['Age',\n",
       " 'Alzheimer',\n",
       " 'Cancer',\n",
       " 'Chronic_Kidney_Disease',\n",
       " 'Chronic_Obstructive_Pulmonary_Disease',\n",
       " 'Depression',\n",
       " 'Diabetes',\n",
       " 'End_stage_renal_disease_Indicator',\n",
       " 'Gender',\n",
       " 'Heart_Failure',\n",
       " 'Inpatient_reimbursement_amount',\n",
       " 'Ischemic_Heart_Disease',\n",
       " 'Osteoporosis',\n",
       " 'Rheumatoid_arthritis_osteoarthritis',\n",
       " 'Stroke_transient_Ischemic_Attack',\n",
       " 'DESYNPUF_ID']"
      ]
     },
     "execution_count": 28,
     "metadata": {},
     "output_type": "execute_result"
    }
   ],
   "source": [
    "ben.columns"
   ]
  },
  {
   "cell_type": "code",
   "execution_count": 29,
   "id": "2b41262c",
   "metadata": {},
   "outputs": [
    {
     "data": {
      "text/plain": [
       "['Beneficiary_Blood_Deductible_Liability_Amount',\n",
       " 'Beneficiary_Inpatient_Deductible_Amount',\n",
       " 'Beneficiary_PartA_Coinsurance_Liability_Amount',\n",
       " 'Claim_Admission_Date',\n",
       " 'Claim_Admitting_Diagnosis_Code',\n",
       " 'Claim_End_Date',\n",
       " 'Claim_ID',\n",
       " 'Claim_Pass_Thru_Per_Diem_Amount',\n",
       " 'Claim_Payment_Amount',\n",
       " 'Claim_Start_Date',\n",
       " 'Claim_Utilization_Day_Count',\n",
       " 'DESYNPUF_ID',\n",
       " 'Inpatient_discharged_date',\n",
       " 'Primary_Payer_Claim_Paid_Amount',\n",
       " 'Provider_Number',\n",
       " '_id']"
      ]
     },
     "execution_count": 29,
     "metadata": {},
     "output_type": "execute_result"
    }
   ],
   "source": [
    "Inp.columns"
   ]
  },
  {
   "cell_type": "code",
   "execution_count": 30,
   "id": "72db9636",
   "metadata": {},
   "outputs": [],
   "source": [
    "col = ['Claim_Payment_Amount','Claim_Utilization_Day_Count','DESYNPUF_ID']"
   ]
  },
  {
   "cell_type": "code",
   "execution_count": 31,
   "id": "49012f2a",
   "metadata": {},
   "outputs": [],
   "source": [
    "Inp = Inp.select(col)"
   ]
  },
  {
   "cell_type": "code",
   "execution_count": 32,
   "id": "80506069",
   "metadata": {},
   "outputs": [
    {
     "data": {
      "text/plain": [
       "['Claim_Payment_Amount', 'Claim_Utilization_Day_Count', 'DESYNPUF_ID']"
      ]
     },
     "execution_count": 32,
     "metadata": {},
     "output_type": "execute_result"
    }
   ],
   "source": [
    "Inp.columns"
   ]
  },
  {
   "cell_type": "code",
   "execution_count": 33,
   "id": "15440a41",
   "metadata": {},
   "outputs": [],
   "source": [
    "binp = ben.join(Inp, on=\"DESYNPUF_ID\", how=\"inner\")"
   ]
  },
  {
   "cell_type": "code",
   "execution_count": 34,
   "id": "425a4c06",
   "metadata": {},
   "outputs": [
    {
     "data": {
      "text/plain": [
       "['DESYNPUF_ID',\n",
       " 'Age',\n",
       " 'Alzheimer',\n",
       " 'Cancer',\n",
       " 'Chronic_Kidney_Disease',\n",
       " 'Chronic_Obstructive_Pulmonary_Disease',\n",
       " 'Depression',\n",
       " 'Diabetes',\n",
       " 'End_stage_renal_disease_Indicator',\n",
       " 'Gender',\n",
       " 'Heart_Failure',\n",
       " 'Inpatient_reimbursement_amount',\n",
       " 'Ischemic_Heart_Disease',\n",
       " 'Osteoporosis',\n",
       " 'Rheumatoid_arthritis_osteoarthritis',\n",
       " 'Stroke_transient_Ischemic_Attack',\n",
       " 'Claim_Payment_Amount',\n",
       " 'Claim_Utilization_Day_Count']"
      ]
     },
     "execution_count": 34,
     "metadata": {},
     "output_type": "execute_result"
    }
   ],
   "source": [
    "binp.columns"
   ]
  },
  {
   "cell_type": "code",
   "execution_count": 35,
   "id": "e5b68880",
   "metadata": {},
   "outputs": [],
   "source": [
    "binp_p = binp.toPandas()"
   ]
  },
  {
   "cell_type": "code",
   "execution_count": 36,
   "id": "7993ff56",
   "metadata": {},
   "outputs": [],
   "source": [
    "binp_p.to_csv('C:/Users/vishw/OneDrive/Desktop/Insurance/ML/ML_dataset.csv',index=False)"
   ]
  }
 ],
 "metadata": {
  "kernelspec": {
   "display_name": "Python 3 (ipykernel)",
   "language": "python",
   "name": "python3"
  },
  "language_info": {
   "codemirror_mode": {
    "name": "ipython",
    "version": 3
   },
   "file_extension": ".py",
   "mimetype": "text/x-python",
   "name": "python",
   "nbconvert_exporter": "python",
   "pygments_lexer": "ipython3",
   "version": "3.9.7"
  }
 },
 "nbformat": 4,
 "nbformat_minor": 5
}
